{
 "cells": [
  {
   "cell_type": "markdown",
   "metadata": {
    "papermill": {
     "duration": 0.037779,
     "end_time": "2020-12-12T11:18:57.450695",
     "exception": false,
     "start_time": "2020-12-12T11:18:57.412916",
     "status": "completed"
    },
    "tags": []
   },
   "source": [
    "<hr>\n",
    "\n",
    "<a id=\"ref3\"></a>\n",
    "\n",
    "# Collaborative Filtering"
   ]
  },
  {
   "cell_type": "markdown",
   "metadata": {
    "papermill": {
     "duration": 0.035837,
     "end_time": "2020-12-12T11:18:57.522972",
     "exception": false,
     "start_time": "2020-12-12T11:18:57.487135",
     "status": "completed"
    },
    "tags": []
   },
   "source": [
    "Now, time to start our work on recommendation systems. \n",
    "\n",
    "The first technique we're going to take a look at is called **Collaborative Filtering**, which is also known as **User-User Filtering**. As hinted by its alternate name, this technique uses other users to recommend items to the input user. It attempts to find users that have similar preferences and opinions as the input and then recommends items that they have liked to the input. There are several methods of finding similar users (Even some making use of Machine Learning), and the one we will be using here is going to be based on the **Pearson Correlation Function**.\n",
    "\n",
    "<img src=\"https://cf-courses-data.s3.us.cloud-object-storage.appdomain.cloud/IBMDeveloperSkillsNetwork-ML0101EN-SkillsNetwork/labs/Module%205/images/User_Item.png\" width=800px>\n",
    "\n",
    "The process for creating a User Based recommendation system is as follows:\n",
    "\n",
    "-   Select a user with the movies the user has watched\n",
    "-   Based on his rating to movies, find the top X neighbours \n",
    "-   Get the watched movie record of the user for each neighbour.\n",
    "-   Calculate a similarity score using some formula\n",
    "-   Recommend the items with the highest score\n",
    "\n"
   ]
  },
  {
   "cell_type": "code",
   "execution_count": 9,
   "metadata": {
    "_cell_guid": "b1076dfc-b9ad-4769-8c92-a6c4dae69d19",
    "_uuid": "8f2839f25d086af736a60e9eeb907d3b93b6e0e5",
    "execution": {
     "iopub.execute_input": "2020-12-12T11:18:57.603559Z",
     "iopub.status.busy": "2020-12-12T11:18:57.602818Z",
     "iopub.status.idle": "2020-12-12T11:18:57.618777Z",
     "shell.execute_reply": "2020-12-12T11:18:57.618019Z"
    },
    "papermill": {
     "duration": 0.059047,
     "end_time": "2020-12-12T11:18:57.618922",
     "exception": false,
     "start_time": "2020-12-12T11:18:57.559875",
     "status": "completed"
    },
    "tags": []
   },
   "outputs": [],
   "source": [
    "\n",
    "import numpy as np # linear algebra\n",
    "import pandas as pd # data processing, CSV file I/O (e.g. pd.read_csv)\n",
    "\n",
    "\n",
    "\n"
   ]
  },
  {
   "cell_type": "code",
   "execution_count": 10,
   "metadata": {
    "_cell_guid": "79c7e3d0-c299-4dcb-8224-4455121ee9b0",
    "_uuid": "d629ff2d2480ee46fbb7e2d37f6b5fab8052498a",
    "execution": {
     "iopub.execute_input": "2020-12-12T11:18:57.703399Z",
     "iopub.status.busy": "2020-12-12T11:18:57.702679Z",
     "iopub.status.idle": "2020-12-12T11:18:57.706294Z",
     "shell.execute_reply": "2020-12-12T11:18:57.705555Z"
    },
    "papermill": {
     "duration": 0.049488,
     "end_time": "2020-12-12T11:18:57.706440",
     "exception": false,
     "start_time": "2020-12-12T11:18:57.656952",
     "status": "completed"
    },
    "tags": []
   },
   "outputs": [],
   "source": [
    "#Dataframe manipulation library\n",
    "import pandas as pd\n",
    "#Math functions, we'll only need the sqrt function so let's import only that\n",
    "from math import sqrt\n",
    "import numpy as np\n",
    "import matplotlib.pyplot as plt\n",
    "%matplotlib inline"
   ]
  },
  {
   "cell_type": "markdown",
   "metadata": {
    "papermill": {
     "duration": 0.03758,
     "end_time": "2020-12-12T11:18:57.781472",
     "exception": false,
     "start_time": "2020-12-12T11:18:57.743892",
     "status": "completed"
    },
    "tags": []
   },
   "source": [
    "# Read Data"
   ]
  },
  {
   "cell_type": "code",
   "execution_count": 11,
   "metadata": {
    "execution": {
     "iopub.execute_input": "2020-12-12T11:18:57.863168Z",
     "iopub.status.busy": "2020-12-12T11:18:57.862356Z",
     "iopub.status.idle": "2020-12-12T11:19:24.762876Z",
     "shell.execute_reply": "2020-12-12T11:19:24.762062Z"
    },
    "papermill": {
     "duration": 26.944204,
     "end_time": "2020-12-12T11:19:24.763014",
     "exception": false,
     "start_time": "2020-12-12T11:18:57.818810",
     "status": "completed"
    },
    "tags": []
   },
   "outputs": [],
   "source": [
    "#Storing the movie information into a pandas dataframe\n",
    "movies_df = pd.read_csv(\"../data/movies.csv\",encoding='latin-1')\n",
    "#Storing the user information into a pandas dataframe\n",
    "ratings_df = pd.read_csv(\"../data/ratings.csv\",encoding='latin-1')"
   ]
  },
  {
   "cell_type": "code",
   "execution_count": 12,
   "metadata": {
    "execution": {
     "iopub.execute_input": "2020-12-12T11:19:24.858754Z",
     "iopub.status.busy": "2020-12-12T11:19:24.857733Z",
     "iopub.status.idle": "2020-12-12T11:19:24.868143Z",
     "shell.execute_reply": "2020-12-12T11:19:24.867387Z"
    },
    "papermill": {
     "duration": 0.06723,
     "end_time": "2020-12-12T11:19:24.868263",
     "exception": false,
     "start_time": "2020-12-12T11:19:24.801033",
     "status": "completed"
    },
    "tags": []
   },
   "outputs": [
    {
     "data": {
      "text/html": [
       "<div>\n",
       "<style scoped>\n",
       "    .dataframe tbody tr th:only-of-type {\n",
       "        vertical-align: middle;\n",
       "    }\n",
       "\n",
       "    .dataframe tbody tr th {\n",
       "        vertical-align: top;\n",
       "    }\n",
       "\n",
       "    .dataframe thead th {\n",
       "        text-align: right;\n",
       "    }\n",
       "</style>\n",
       "<table border=\"1\" class=\"dataframe\">\n",
       "  <thead>\n",
       "    <tr style=\"text-align: right;\">\n",
       "      <th></th>\n",
       "      <th>movieId</th>\n",
       "      <th>title</th>\n",
       "      <th>genres</th>\n",
       "    </tr>\n",
       "  </thead>\n",
       "  <tbody>\n",
       "    <tr>\n",
       "      <th>0</th>\n",
       "      <td>1</td>\n",
       "      <td>Toy Story (1995)</td>\n",
       "      <td>Adventure|Animation|Children|Comedy|Fantasy</td>\n",
       "    </tr>\n",
       "    <tr>\n",
       "      <th>1</th>\n",
       "      <td>2</td>\n",
       "      <td>Jumanji (1995)</td>\n",
       "      <td>Adventure|Children|Fantasy</td>\n",
       "    </tr>\n",
       "    <tr>\n",
       "      <th>2</th>\n",
       "      <td>3</td>\n",
       "      <td>Grumpier Old Men (1995)</td>\n",
       "      <td>Comedy|Romance</td>\n",
       "    </tr>\n",
       "    <tr>\n",
       "      <th>3</th>\n",
       "      <td>4</td>\n",
       "      <td>Waiting to Exhale (1995)</td>\n",
       "      <td>Comedy|Drama|Romance</td>\n",
       "    </tr>\n",
       "    <tr>\n",
       "      <th>4</th>\n",
       "      <td>5</td>\n",
       "      <td>Father of the Bride Part II (1995)</td>\n",
       "      <td>Comedy</td>\n",
       "    </tr>\n",
       "  </tbody>\n",
       "</table>\n",
       "</div>"
      ],
      "text/plain": [
       "   movieId                               title  \\\n",
       "0        1                    Toy Story (1995)   \n",
       "1        2                      Jumanji (1995)   \n",
       "2        3             Grumpier Old Men (1995)   \n",
       "3        4            Waiting to Exhale (1995)   \n",
       "4        5  Father of the Bride Part II (1995)   \n",
       "\n",
       "                                        genres  \n",
       "0  Adventure|Animation|Children|Comedy|Fantasy  \n",
       "1                   Adventure|Children|Fantasy  \n",
       "2                               Comedy|Romance  \n",
       "3                         Comedy|Drama|Romance  \n",
       "4                                       Comedy  "
      ]
     },
     "execution_count": 12,
     "metadata": {},
     "output_type": "execute_result"
    }
   ],
   "source": [
    "#Head is a function that gets the first N rows of a dataframe. N's default is 5.\n",
    "movies_df.head()"
   ]
  },
  {
   "cell_type": "markdown",
   "metadata": {
    "papermill": {
     "duration": 0.045581,
     "end_time": "2020-12-12T11:19:24.952462",
     "exception": false,
     "start_time": "2020-12-12T11:19:24.906881",
     "status": "completed"
    },
    "tags": []
   },
   "source": [
    "# Preprocess Data"
   ]
  },
  {
   "cell_type": "markdown",
   "metadata": {
    "papermill": {
     "duration": 0.037759,
     "end_time": "2020-12-12T11:19:25.028533",
     "exception": false,
     "start_time": "2020-12-12T11:19:24.990774",
     "status": "completed"
    },
    "tags": []
   },
   "source": [
    "So each movie has a unique ID, a title with its release year along with it (Which may contain unicode characters) and several different genres in the same field. Let's remove the year from the title column and place it into its own one by using the handy [extract](http://pandas.pydata.org/pandas-docs/stable/generated/pandas.Series.str.extract.html#pandas.Series.str.extract?cm_mmc=Email_Newsletter-_-Developer_Ed%2BTech-_-WW_WW-_-SkillsNetwork-Courses-IBMDeveloperSkillsNetwork-ML0101EN-SkillsNetwork-20718538&cm_mmca1=000026UJ&cm_mmca2=10006555&cm_mmca3=M12345678&cvosrc=email.Newsletter.M12345678&cvo_campaign=000026UJ&cm_mmc=Email_Newsletter-_-Developer_Ed%2BTech-_-WW_WW-_-SkillsNetwork-Courses-IBMDeveloperSkillsNetwork-ML0101EN-SkillsNetwork-20718538&cm_mmca1=000026UJ&cm_mmca2=10006555&cm_mmca3=M12345678&cvosrc=email.Newsletter.M12345678&cvo_campaign=000026UJ) function that Pandas has.\n"
   ]
  },
  {
   "cell_type": "markdown",
   "metadata": {
    "papermill": {
     "duration": 0.038572,
     "end_time": "2020-12-12T11:19:25.105360",
     "exception": false,
     "start_time": "2020-12-12T11:19:25.066788",
     "status": "completed"
    },
    "tags": []
   },
   "source": [
    "Let's remove the year from the **title** column by using pandas' replace function and store in a new **year** column.\n"
   ]
  },
  {
   "cell_type": "code",
   "execution_count": 13,
   "metadata": {
    "execution": {
     "iopub.execute_input": "2020-12-12T11:19:25.224977Z",
     "iopub.status.busy": "2020-12-12T11:19:25.204577Z",
     "iopub.status.idle": "2020-12-12T11:19:25.385997Z",
     "shell.execute_reply": "2020-12-12T11:19:25.385218Z"
    },
    "papermill": {
     "duration": 0.242156,
     "end_time": "2020-12-12T11:19:25.386123",
     "exception": false,
     "start_time": "2020-12-12T11:19:25.143967",
     "status": "completed"
    },
    "tags": []
   },
   "outputs": [
    {
     "name": "stderr",
     "output_type": "stream",
     "text": [
      "/var/folders/dq/rylwkp714dzg82c37q1l48_w0000gn/T/ipykernel_78558/2727439841.py:7: FutureWarning: The default value of regex will change from True to False in a future version.\n",
      "  movies_df['title'] = movies_df.title.str.replace('(\\(\\d\\d\\d\\d\\))', '')\n"
     ]
    }
   ],
   "source": [
    "#Using regular expressions to find a year stored between parentheses\n",
    "#We specify the parantheses so we don't conflict with movies that have years in their titles\n",
    "movies_df['year'] = movies_df.title.str.extract('(\\(\\d\\d\\d\\d\\))',expand=False)\n",
    "#Removing the parentheses\n",
    "movies_df['year'] = movies_df.year.str.extract('(\\d\\d\\d\\d)',expand=False)\n",
    "#Removing the years from the 'title' column\n",
    "movies_df['title'] = movies_df.title.str.replace('(\\(\\d\\d\\d\\d\\))', '')\n",
    "#Applying the strip function to get rid of any ending whitespace characters that may have appeared\n",
    "movies_df['title'] = movies_df['title'].apply(lambda x: x.strip())"
   ]
  },
  {
   "cell_type": "code",
   "execution_count": 14,
   "metadata": {
    "execution": {
     "iopub.execute_input": "2020-12-12T11:19:25.475220Z",
     "iopub.status.busy": "2020-12-12T11:19:25.474105Z",
     "iopub.status.idle": "2020-12-12T11:19:25.478404Z",
     "shell.execute_reply": "2020-12-12T11:19:25.477838Z"
    },
    "papermill": {
     "duration": 0.053939,
     "end_time": "2020-12-12T11:19:25.478527",
     "exception": false,
     "start_time": "2020-12-12T11:19:25.424588",
     "status": "completed"
    },
    "tags": []
   },
   "outputs": [
    {
     "data": {
      "text/html": [
       "<div>\n",
       "<style scoped>\n",
       "    .dataframe tbody tr th:only-of-type {\n",
       "        vertical-align: middle;\n",
       "    }\n",
       "\n",
       "    .dataframe tbody tr th {\n",
       "        vertical-align: top;\n",
       "    }\n",
       "\n",
       "    .dataframe thead th {\n",
       "        text-align: right;\n",
       "    }\n",
       "</style>\n",
       "<table border=\"1\" class=\"dataframe\">\n",
       "  <thead>\n",
       "    <tr style=\"text-align: right;\">\n",
       "      <th></th>\n",
       "      <th>movieId</th>\n",
       "      <th>title</th>\n",
       "      <th>genres</th>\n",
       "      <th>year</th>\n",
       "    </tr>\n",
       "  </thead>\n",
       "  <tbody>\n",
       "    <tr>\n",
       "      <th>0</th>\n",
       "      <td>1</td>\n",
       "      <td>Toy Story</td>\n",
       "      <td>Adventure|Animation|Children|Comedy|Fantasy</td>\n",
       "      <td>1995</td>\n",
       "    </tr>\n",
       "    <tr>\n",
       "      <th>1</th>\n",
       "      <td>2</td>\n",
       "      <td>Jumanji</td>\n",
       "      <td>Adventure|Children|Fantasy</td>\n",
       "      <td>1995</td>\n",
       "    </tr>\n",
       "    <tr>\n",
       "      <th>2</th>\n",
       "      <td>3</td>\n",
       "      <td>Grumpier Old Men</td>\n",
       "      <td>Comedy|Romance</td>\n",
       "      <td>1995</td>\n",
       "    </tr>\n",
       "    <tr>\n",
       "      <th>3</th>\n",
       "      <td>4</td>\n",
       "      <td>Waiting to Exhale</td>\n",
       "      <td>Comedy|Drama|Romance</td>\n",
       "      <td>1995</td>\n",
       "    </tr>\n",
       "    <tr>\n",
       "      <th>4</th>\n",
       "      <td>5</td>\n",
       "      <td>Father of the Bride Part II</td>\n",
       "      <td>Comedy</td>\n",
       "      <td>1995</td>\n",
       "    </tr>\n",
       "  </tbody>\n",
       "</table>\n",
       "</div>"
      ],
      "text/plain": [
       "   movieId                        title  \\\n",
       "0        1                    Toy Story   \n",
       "1        2                      Jumanji   \n",
       "2        3             Grumpier Old Men   \n",
       "3        4            Waiting to Exhale   \n",
       "4        5  Father of the Bride Part II   \n",
       "\n",
       "                                        genres  year  \n",
       "0  Adventure|Animation|Children|Comedy|Fantasy  1995  \n",
       "1                   Adventure|Children|Fantasy  1995  \n",
       "2                               Comedy|Romance  1995  \n",
       "3                         Comedy|Drama|Romance  1995  \n",
       "4                                       Comedy  1995  "
      ]
     },
     "execution_count": 14,
     "metadata": {},
     "output_type": "execute_result"
    }
   ],
   "source": [
    "movies_df.head()"
   ]
  },
  {
   "cell_type": "markdown",
   "metadata": {
    "papermill": {
     "duration": 0.038696,
     "end_time": "2020-12-12T11:19:25.556138",
     "exception": false,
     "start_time": "2020-12-12T11:19:25.517442",
     "status": "completed"
    },
    "tags": []
   },
   "source": [
    "With that, let's also drop the genres column since we won't need it for this particular recommendation system.\n"
   ]
  },
  {
   "cell_type": "code",
   "execution_count": 15,
   "metadata": {
    "execution": {
     "iopub.execute_input": "2020-12-12T11:19:25.642012Z",
     "iopub.status.busy": "2020-12-12T11:19:25.640652Z",
     "iopub.status.idle": "2020-12-12T11:19:25.648410Z",
     "shell.execute_reply": "2020-12-12T11:19:25.647703Z"
    },
    "papermill": {
     "duration": 0.053164,
     "end_time": "2020-12-12T11:19:25.648528",
     "exception": false,
     "start_time": "2020-12-12T11:19:25.595364",
     "status": "completed"
    },
    "tags": []
   },
   "outputs": [
    {
     "name": "stderr",
     "output_type": "stream",
     "text": [
      "/var/folders/dq/rylwkp714dzg82c37q1l48_w0000gn/T/ipykernel_78558/37422046.py:2: FutureWarning: In a future version of pandas all arguments of DataFrame.drop except for the argument 'labels' will be keyword-only\n",
      "  movies_df = movies_df.drop('genres', 1)\n"
     ]
    }
   ],
   "source": [
    "#Dropping the genres column\n",
    "movies_df = movies_df.drop('genres', 1)"
   ]
  },
  {
   "cell_type": "markdown",
   "metadata": {
    "papermill": {
     "duration": 0.038877,
     "end_time": "2020-12-12T11:19:25.728709",
     "exception": false,
     "start_time": "2020-12-12T11:19:25.689832",
     "status": "completed"
    },
    "tags": []
   },
   "source": [
    "Here's the final movies dataframe:\n"
   ]
  },
  {
   "cell_type": "code",
   "execution_count": 16,
   "metadata": {
    "execution": {
     "iopub.execute_input": "2020-12-12T11:19:25.817825Z",
     "iopub.status.busy": "2020-12-12T11:19:25.816753Z",
     "iopub.status.idle": "2020-12-12T11:19:25.821005Z",
     "shell.execute_reply": "2020-12-12T11:19:25.820271Z"
    },
    "papermill": {
     "duration": 0.053493,
     "end_time": "2020-12-12T11:19:25.821124",
     "exception": false,
     "start_time": "2020-12-12T11:19:25.767631",
     "status": "completed"
    },
    "tags": []
   },
   "outputs": [
    {
     "data": {
      "text/html": [
       "<div>\n",
       "<style scoped>\n",
       "    .dataframe tbody tr th:only-of-type {\n",
       "        vertical-align: middle;\n",
       "    }\n",
       "\n",
       "    .dataframe tbody tr th {\n",
       "        vertical-align: top;\n",
       "    }\n",
       "\n",
       "    .dataframe thead th {\n",
       "        text-align: right;\n",
       "    }\n",
       "</style>\n",
       "<table border=\"1\" class=\"dataframe\">\n",
       "  <thead>\n",
       "    <tr style=\"text-align: right;\">\n",
       "      <th></th>\n",
       "      <th>movieId</th>\n",
       "      <th>title</th>\n",
       "      <th>year</th>\n",
       "    </tr>\n",
       "  </thead>\n",
       "  <tbody>\n",
       "    <tr>\n",
       "      <th>0</th>\n",
       "      <td>1</td>\n",
       "      <td>Toy Story</td>\n",
       "      <td>1995</td>\n",
       "    </tr>\n",
       "    <tr>\n",
       "      <th>1</th>\n",
       "      <td>2</td>\n",
       "      <td>Jumanji</td>\n",
       "      <td>1995</td>\n",
       "    </tr>\n",
       "    <tr>\n",
       "      <th>2</th>\n",
       "      <td>3</td>\n",
       "      <td>Grumpier Old Men</td>\n",
       "      <td>1995</td>\n",
       "    </tr>\n",
       "    <tr>\n",
       "      <th>3</th>\n",
       "      <td>4</td>\n",
       "      <td>Waiting to Exhale</td>\n",
       "      <td>1995</td>\n",
       "    </tr>\n",
       "    <tr>\n",
       "      <th>4</th>\n",
       "      <td>5</td>\n",
       "      <td>Father of the Bride Part II</td>\n",
       "      <td>1995</td>\n",
       "    </tr>\n",
       "  </tbody>\n",
       "</table>\n",
       "</div>"
      ],
      "text/plain": [
       "   movieId                        title  year\n",
       "0        1                    Toy Story  1995\n",
       "1        2                      Jumanji  1995\n",
       "2        3             Grumpier Old Men  1995\n",
       "3        4            Waiting to Exhale  1995\n",
       "4        5  Father of the Bride Part II  1995"
      ]
     },
     "execution_count": 16,
     "metadata": {},
     "output_type": "execute_result"
    }
   ],
   "source": [
    "movies_df.head()"
   ]
  },
  {
   "cell_type": "code",
   "execution_count": 17,
   "metadata": {
    "execution": {
     "iopub.execute_input": "2020-12-12T11:19:25.913389Z",
     "iopub.status.busy": "2020-12-12T11:19:25.912535Z",
     "iopub.status.idle": "2020-12-12T11:19:25.917891Z",
     "shell.execute_reply": "2020-12-12T11:19:25.917110Z"
    },
    "papermill": {
     "duration": 0.057018,
     "end_time": "2020-12-12T11:19:25.918026",
     "exception": false,
     "start_time": "2020-12-12T11:19:25.861008",
     "status": "completed"
    },
    "tags": []
   },
   "outputs": [
    {
     "data": {
      "text/html": [
       "<div>\n",
       "<style scoped>\n",
       "    .dataframe tbody tr th:only-of-type {\n",
       "        vertical-align: middle;\n",
       "    }\n",
       "\n",
       "    .dataframe tbody tr th {\n",
       "        vertical-align: top;\n",
       "    }\n",
       "\n",
       "    .dataframe thead th {\n",
       "        text-align: right;\n",
       "    }\n",
       "</style>\n",
       "<table border=\"1\" class=\"dataframe\">\n",
       "  <thead>\n",
       "    <tr style=\"text-align: right;\">\n",
       "      <th></th>\n",
       "      <th>userId</th>\n",
       "      <th>movieId</th>\n",
       "      <th>rating</th>\n",
       "      <th>timestamp</th>\n",
       "    </tr>\n",
       "  </thead>\n",
       "  <tbody>\n",
       "    <tr>\n",
       "      <th>0</th>\n",
       "      <td>12882</td>\n",
       "      <td>1</td>\n",
       "      <td>4.0</td>\n",
       "      <td>1147195252</td>\n",
       "    </tr>\n",
       "    <tr>\n",
       "      <th>1</th>\n",
       "      <td>12882</td>\n",
       "      <td>32</td>\n",
       "      <td>3.5</td>\n",
       "      <td>1147195307</td>\n",
       "    </tr>\n",
       "    <tr>\n",
       "      <th>2</th>\n",
       "      <td>12882</td>\n",
       "      <td>47</td>\n",
       "      <td>5.0</td>\n",
       "      <td>1147195343</td>\n",
       "    </tr>\n",
       "    <tr>\n",
       "      <th>3</th>\n",
       "      <td>12882</td>\n",
       "      <td>50</td>\n",
       "      <td>5.0</td>\n",
       "      <td>1147185499</td>\n",
       "    </tr>\n",
       "    <tr>\n",
       "      <th>4</th>\n",
       "      <td>12882</td>\n",
       "      <td>110</td>\n",
       "      <td>4.5</td>\n",
       "      <td>1147195239</td>\n",
       "    </tr>\n",
       "  </tbody>\n",
       "</table>\n",
       "</div>"
      ],
      "text/plain": [
       "   userId  movieId  rating   timestamp\n",
       "0   12882        1     4.0  1147195252\n",
       "1   12882       32     3.5  1147195307\n",
       "2   12882       47     5.0  1147195343\n",
       "3   12882       50     5.0  1147185499\n",
       "4   12882      110     4.5  1147195239"
      ]
     },
     "execution_count": 17,
     "metadata": {},
     "output_type": "execute_result"
    }
   ],
   "source": [
    "ratings_df.head()"
   ]
  },
  {
   "cell_type": "markdown",
   "metadata": {
    "papermill": {
     "duration": 0.040296,
     "end_time": "2020-12-12T11:19:25.999081",
     "exception": false,
     "start_time": "2020-12-12T11:19:25.958785",
     "status": "completed"
    },
    "tags": []
   },
   "source": [
    "Every row in the ratings dataframe has a user id associated with at least one movie, a rating and a timestamp showing when they reviewed it. We won't be needing the timestamp column, so let's drop it to save on memory.\n"
   ]
  },
  {
   "cell_type": "code",
   "execution_count": 18,
   "metadata": {
    "execution": {
     "iopub.execute_input": "2020-12-12T11:19:26.318280Z",
     "iopub.status.busy": "2020-12-12T11:19:26.200981Z",
     "iopub.status.idle": "2020-12-12T11:19:26.322346Z",
     "shell.execute_reply": "2020-12-12T11:19:26.321676Z"
    },
    "papermill": {
     "duration": 0.282907,
     "end_time": "2020-12-12T11:19:26.322483",
     "exception": false,
     "start_time": "2020-12-12T11:19:26.039576",
     "status": "completed"
    },
    "tags": []
   },
   "outputs": [
    {
     "name": "stderr",
     "output_type": "stream",
     "text": [
      "/var/folders/dq/rylwkp714dzg82c37q1l48_w0000gn/T/ipykernel_78558/1971122656.py:2: FutureWarning: In a future version of pandas all arguments of DataFrame.drop except for the argument 'labels' will be keyword-only\n",
      "  ratings_df = ratings_df.drop('timestamp', 1)\n"
     ]
    }
   ],
   "source": [
    "#Drop removes a specified row or column from a dataframe\n",
    "ratings_df = ratings_df.drop('timestamp', 1)"
   ]
  },
  {
   "cell_type": "markdown",
   "metadata": {
    "papermill": {
     "duration": 0.041299,
     "end_time": "2020-12-12T11:19:26.406961",
     "exception": false,
     "start_time": "2020-12-12T11:19:26.365662",
     "status": "completed"
    },
    "tags": []
   },
   "source": [
    "Here's how the final ratings Dataframe looks like:\n"
   ]
  },
  {
   "cell_type": "code",
   "execution_count": 19,
   "metadata": {
    "execution": {
     "iopub.execute_input": "2020-12-12T11:19:26.502071Z",
     "iopub.status.busy": "2020-12-12T11:19:26.500998Z",
     "iopub.status.idle": "2020-12-12T11:19:26.505302Z",
     "shell.execute_reply": "2020-12-12T11:19:26.505926Z"
    },
    "papermill": {
     "duration": 0.05775,
     "end_time": "2020-12-12T11:19:26.506079",
     "exception": false,
     "start_time": "2020-12-12T11:19:26.448329",
     "status": "completed"
    },
    "tags": []
   },
   "outputs": [
    {
     "data": {
      "text/html": [
       "<div>\n",
       "<style scoped>\n",
       "    .dataframe tbody tr th:only-of-type {\n",
       "        vertical-align: middle;\n",
       "    }\n",
       "\n",
       "    .dataframe tbody tr th {\n",
       "        vertical-align: top;\n",
       "    }\n",
       "\n",
       "    .dataframe thead th {\n",
       "        text-align: right;\n",
       "    }\n",
       "</style>\n",
       "<table border=\"1\" class=\"dataframe\">\n",
       "  <thead>\n",
       "    <tr style=\"text-align: right;\">\n",
       "      <th></th>\n",
       "      <th>userId</th>\n",
       "      <th>movieId</th>\n",
       "      <th>rating</th>\n",
       "    </tr>\n",
       "  </thead>\n",
       "  <tbody>\n",
       "    <tr>\n",
       "      <th>0</th>\n",
       "      <td>12882</td>\n",
       "      <td>1</td>\n",
       "      <td>4.0</td>\n",
       "    </tr>\n",
       "    <tr>\n",
       "      <th>1</th>\n",
       "      <td>12882</td>\n",
       "      <td>32</td>\n",
       "      <td>3.5</td>\n",
       "    </tr>\n",
       "    <tr>\n",
       "      <th>2</th>\n",
       "      <td>12882</td>\n",
       "      <td>47</td>\n",
       "      <td>5.0</td>\n",
       "    </tr>\n",
       "    <tr>\n",
       "      <th>3</th>\n",
       "      <td>12882</td>\n",
       "      <td>50</td>\n",
       "      <td>5.0</td>\n",
       "    </tr>\n",
       "    <tr>\n",
       "      <th>4</th>\n",
       "      <td>12882</td>\n",
       "      <td>110</td>\n",
       "      <td>4.5</td>\n",
       "    </tr>\n",
       "  </tbody>\n",
       "</table>\n",
       "</div>"
      ],
      "text/plain": [
       "   userId  movieId  rating\n",
       "0   12882        1     4.0\n",
       "1   12882       32     3.5\n",
       "2   12882       47     5.0\n",
       "3   12882       50     5.0\n",
       "4   12882      110     4.5"
      ]
     },
     "execution_count": 19,
     "metadata": {},
     "output_type": "execute_result"
    }
   ],
   "source": [
    "ratings_df.head()"
   ]
  },
  {
   "cell_type": "markdown",
   "metadata": {
    "papermill": {
     "duration": 0.041364,
     "end_time": "2020-12-12T11:19:26.589618",
     "exception": false,
     "start_time": "2020-12-12T11:19:26.548254",
     "status": "completed"
    },
    "tags": []
   },
   "source": [
    "Let's begin by creating an input user to recommend movies to:\n",
    "\n",
    "Notice: To add more movies, simply increase the amount of elements in the userInput. Feel free to add more in! Just be sure to write it in with capital letters and if a movie starts with a \"The\", like \"The Matrix\" then write it in like this: 'Matrix, The' ."
   ]
  },
  {
   "cell_type": "markdown",
   "metadata": {
    "papermill": {
     "duration": 0.041373,
     "end_time": "2020-12-12T11:19:26.672619",
     "exception": false,
     "start_time": "2020-12-12T11:19:26.631246",
     "status": "completed"
    },
    "tags": []
   },
   "source": [
    "# Test User"
   ]
  },
  {
   "cell_type": "code",
   "execution_count": 20,
   "metadata": {
    "execution": {
     "iopub.execute_input": "2020-12-12T11:19:26.765523Z",
     "iopub.status.busy": "2020-12-12T11:19:26.764733Z",
     "iopub.status.idle": "2020-12-12T11:19:26.781969Z",
     "shell.execute_reply": "2020-12-12T11:19:26.781306Z"
    },
    "papermill": {
     "duration": 0.06765,
     "end_time": "2020-12-12T11:19:26.782100",
     "exception": false,
     "start_time": "2020-12-12T11:19:26.714450",
     "status": "completed"
    },
    "tags": []
   },
   "outputs": [
    {
     "data": {
      "text/html": [
       "<div>\n",
       "<style scoped>\n",
       "    .dataframe tbody tr th:only-of-type {\n",
       "        vertical-align: middle;\n",
       "    }\n",
       "\n",
       "    .dataframe tbody tr th {\n",
       "        vertical-align: top;\n",
       "    }\n",
       "\n",
       "    .dataframe thead th {\n",
       "        text-align: right;\n",
       "    }\n",
       "</style>\n",
       "<table border=\"1\" class=\"dataframe\">\n",
       "  <thead>\n",
       "    <tr style=\"text-align: right;\">\n",
       "      <th></th>\n",
       "      <th>title</th>\n",
       "      <th>rating</th>\n",
       "    </tr>\n",
       "  </thead>\n",
       "  <tbody>\n",
       "    <tr>\n",
       "      <th>0</th>\n",
       "      <td>Breakfast Club, The</td>\n",
       "      <td>5.0</td>\n",
       "    </tr>\n",
       "    <tr>\n",
       "      <th>1</th>\n",
       "      <td>Toy Story</td>\n",
       "      <td>3.5</td>\n",
       "    </tr>\n",
       "    <tr>\n",
       "      <th>2</th>\n",
       "      <td>Jumanji</td>\n",
       "      <td>2.0</td>\n",
       "    </tr>\n",
       "    <tr>\n",
       "      <th>3</th>\n",
       "      <td>Pulp Fiction</td>\n",
       "      <td>5.0</td>\n",
       "    </tr>\n",
       "    <tr>\n",
       "      <th>4</th>\n",
       "      <td>Akira</td>\n",
       "      <td>4.5</td>\n",
       "    </tr>\n",
       "  </tbody>\n",
       "</table>\n",
       "</div>"
      ],
      "text/plain": [
       "                 title  rating\n",
       "0  Breakfast Club, The     5.0\n",
       "1            Toy Story     3.5\n",
       "2              Jumanji     2.0\n",
       "3         Pulp Fiction     5.0\n",
       "4                Akira     4.5"
      ]
     },
     "execution_count": 20,
     "metadata": {},
     "output_type": "execute_result"
    }
   ],
   "source": [
    "userInput = [\n",
    "            {'title':'Breakfast Club, The', 'rating':5},\n",
    "            {'title':'Toy Story', 'rating':3.5},\n",
    "            {'title':'Jumanji', 'rating':2},\n",
    "            {'title':\"Pulp Fiction\", 'rating':5},\n",
    "            {'title':'Akira', 'rating':4.5}\n",
    "         ] \n",
    "inputMovies = pd.DataFrame(userInput)\n",
    "inputMovies"
   ]
  },
  {
   "cell_type": "markdown",
   "metadata": {
    "papermill": {
     "duration": 0.042548,
     "end_time": "2020-12-12T11:19:26.867577",
     "exception": false,
     "start_time": "2020-12-12T11:19:26.825029",
     "status": "completed"
    },
    "tags": []
   },
   "source": [
    "#### Add movieId to input user\n",
    "\n",
    "With the input complete, let's extract the input movies's ID's from the movies dataframe and add them into it.\n",
    "\n",
    "We can achieve this by first filtering out the rows that contain the input movies' title and then merging this subset with the input dataframe. We also drop unnecessary columns for the input to save memory space.\n"
   ]
  },
  {
   "cell_type": "code",
   "execution_count": 21,
   "metadata": {
    "execution": {
     "iopub.execute_input": "2020-12-12T11:19:26.979558Z",
     "iopub.status.busy": "2020-12-12T11:19:26.978798Z",
     "iopub.status.idle": "2020-12-12T11:19:27.007995Z",
     "shell.execute_reply": "2020-12-12T11:19:27.007354Z"
    },
    "papermill": {
     "duration": 0.097604,
     "end_time": "2020-12-12T11:19:27.008124",
     "exception": false,
     "start_time": "2020-12-12T11:19:26.910520",
     "status": "completed"
    },
    "tags": []
   },
   "outputs": [
    {
     "name": "stderr",
     "output_type": "stream",
     "text": [
      "/var/folders/dq/rylwkp714dzg82c37q1l48_w0000gn/T/ipykernel_78558/2035672847.py:6: FutureWarning: In a future version of pandas all arguments of DataFrame.drop except for the argument 'labels' will be keyword-only\n",
      "  inputMovies = inputMovies.drop('year', 1)\n"
     ]
    },
    {
     "data": {
      "text/html": [
       "<div>\n",
       "<style scoped>\n",
       "    .dataframe tbody tr th:only-of-type {\n",
       "        vertical-align: middle;\n",
       "    }\n",
       "\n",
       "    .dataframe tbody tr th {\n",
       "        vertical-align: top;\n",
       "    }\n",
       "\n",
       "    .dataframe thead th {\n",
       "        text-align: right;\n",
       "    }\n",
       "</style>\n",
       "<table border=\"1\" class=\"dataframe\">\n",
       "  <thead>\n",
       "    <tr style=\"text-align: right;\">\n",
       "      <th></th>\n",
       "      <th>movieId</th>\n",
       "      <th>title</th>\n",
       "      <th>rating</th>\n",
       "    </tr>\n",
       "  </thead>\n",
       "  <tbody>\n",
       "    <tr>\n",
       "      <th>0</th>\n",
       "      <td>1</td>\n",
       "      <td>Toy Story</td>\n",
       "      <td>3.5</td>\n",
       "    </tr>\n",
       "    <tr>\n",
       "      <th>1</th>\n",
       "      <td>2</td>\n",
       "      <td>Jumanji</td>\n",
       "      <td>2.0</td>\n",
       "    </tr>\n",
       "    <tr>\n",
       "      <th>2</th>\n",
       "      <td>296</td>\n",
       "      <td>Pulp Fiction</td>\n",
       "      <td>5.0</td>\n",
       "    </tr>\n",
       "    <tr>\n",
       "      <th>3</th>\n",
       "      <td>1274</td>\n",
       "      <td>Akira</td>\n",
       "      <td>4.5</td>\n",
       "    </tr>\n",
       "    <tr>\n",
       "      <th>4</th>\n",
       "      <td>1968</td>\n",
       "      <td>Breakfast Club, The</td>\n",
       "      <td>5.0</td>\n",
       "    </tr>\n",
       "  </tbody>\n",
       "</table>\n",
       "</div>"
      ],
      "text/plain": [
       "   movieId                title  rating\n",
       "0        1            Toy Story     3.5\n",
       "1        2              Jumanji     2.0\n",
       "2      296         Pulp Fiction     5.0\n",
       "3     1274                Akira     4.5\n",
       "4     1968  Breakfast Club, The     5.0"
      ]
     },
     "execution_count": 21,
     "metadata": {},
     "output_type": "execute_result"
    }
   ],
   "source": [
    "#Filtering out the movies by title\n",
    "inputId = movies_df[movies_df['title'].isin(inputMovies['title'].tolist())]\n",
    "#Then merging it so we can get the movieId. It's implicitly merging it by title.\n",
    "inputMovies = pd.merge(inputId, inputMovies)\n",
    "#Dropping information we won't use from the input dataframe\n",
    "inputMovies = inputMovies.drop('year', 1)\n",
    "#Final input dataframe\n",
    "#If a movie you added in above isn't here, then it might not be in the original \n",
    "#dataframe or it might spelled differently, please check capitalisation.\n",
    "inputMovies"
   ]
  },
  {
   "cell_type": "markdown",
   "metadata": {
    "papermill": {
     "duration": 0.043728,
     "end_time": "2020-12-12T11:19:27.095241",
     "exception": false,
     "start_time": "2020-12-12T11:19:27.051513",
     "status": "completed"
    },
    "tags": []
   },
   "source": [
    "#### The users who has seen the same movies\n",
    "\n",
    "Now with the movie ID's in our input, we can now get the subset of users that have watched and reviewed the movies in our input.\n"
   ]
  },
  {
   "cell_type": "code",
   "execution_count": 22,
   "metadata": {
    "execution": {
     "iopub.execute_input": "2020-12-12T11:19:27.190467Z",
     "iopub.status.busy": "2020-12-12T11:19:27.189342Z",
     "iopub.status.idle": "2020-12-12T11:19:27.586358Z",
     "shell.execute_reply": "2020-12-12T11:19:27.587156Z"
    },
    "papermill": {
     "duration": 0.447984,
     "end_time": "2020-12-12T11:19:27.587326",
     "exception": false,
     "start_time": "2020-12-12T11:19:27.139342",
     "status": "completed"
    },
    "tags": []
   },
   "outputs": [
    {
     "data": {
      "text/html": [
       "<div>\n",
       "<style scoped>\n",
       "    .dataframe tbody tr th:only-of-type {\n",
       "        vertical-align: middle;\n",
       "    }\n",
       "\n",
       "    .dataframe tbody tr th {\n",
       "        vertical-align: top;\n",
       "    }\n",
       "\n",
       "    .dataframe thead th {\n",
       "        text-align: right;\n",
       "    }\n",
       "</style>\n",
       "<table border=\"1\" class=\"dataframe\">\n",
       "  <thead>\n",
       "    <tr style=\"text-align: right;\">\n",
       "      <th></th>\n",
       "      <th>userId</th>\n",
       "      <th>movieId</th>\n",
       "      <th>rating</th>\n",
       "    </tr>\n",
       "  </thead>\n",
       "  <tbody>\n",
       "    <tr>\n",
       "      <th>0</th>\n",
       "      <td>12882</td>\n",
       "      <td>1</td>\n",
       "      <td>4.0</td>\n",
       "    </tr>\n",
       "    <tr>\n",
       "      <th>9</th>\n",
       "      <td>12882</td>\n",
       "      <td>296</td>\n",
       "      <td>5.0</td>\n",
       "    </tr>\n",
       "    <tr>\n",
       "      <th>109</th>\n",
       "      <td>320</td>\n",
       "      <td>296</td>\n",
       "      <td>4.5</td>\n",
       "    </tr>\n",
       "    <tr>\n",
       "      <th>168</th>\n",
       "      <td>121987</td>\n",
       "      <td>1</td>\n",
       "      <td>4.5</td>\n",
       "    </tr>\n",
       "    <tr>\n",
       "      <th>268</th>\n",
       "      <td>62046</td>\n",
       "      <td>296</td>\n",
       "      <td>4.5</td>\n",
       "    </tr>\n",
       "  </tbody>\n",
       "</table>\n",
       "</div>"
      ],
      "text/plain": [
       "     userId  movieId  rating\n",
       "0     12882        1     4.0\n",
       "9     12882      296     5.0\n",
       "109     320      296     4.5\n",
       "168  121987        1     4.5\n",
       "268   62046      296     4.5"
      ]
     },
     "execution_count": 22,
     "metadata": {},
     "output_type": "execute_result"
    }
   ],
   "source": [
    "#Filtering out users that have watched movies that the input has watched and storing it\n",
    "userSubset = ratings_df[ratings_df['movieId'].isin(inputMovies['movieId'].tolist())]\n",
    "userSubset.head()"
   ]
  },
  {
   "cell_type": "markdown",
   "metadata": {
    "papermill": {
     "duration": 0.043593,
     "end_time": "2020-12-12T11:19:27.674769",
     "exception": false,
     "start_time": "2020-12-12T11:19:27.631176",
     "status": "completed"
    },
    "tags": []
   },
   "source": [
    "We now group up the rows by user ID.\n"
   ]
  },
  {
   "cell_type": "code",
   "execution_count": 23,
   "metadata": {
    "execution": {
     "iopub.execute_input": "2020-12-12T11:19:27.768995Z",
     "iopub.status.busy": "2020-12-12T11:19:27.767972Z",
     "iopub.status.idle": "2020-12-12T11:19:27.771344Z",
     "shell.execute_reply": "2020-12-12T11:19:27.770741Z"
    },
    "papermill": {
     "duration": 0.052395,
     "end_time": "2020-12-12T11:19:27.771461",
     "exception": false,
     "start_time": "2020-12-12T11:19:27.719066",
     "status": "completed"
    },
    "tags": []
   },
   "outputs": [],
   "source": [
    "#Groupby creates several sub dataframes where they all have the same value in the column specified as the parameter\n",
    "userSubsetGroup = userSubset.groupby(['userId'])"
   ]
  },
  {
   "cell_type": "markdown",
   "metadata": {
    "papermill": {
     "duration": 0.044005,
     "end_time": "2020-12-12T11:19:27.859883",
     "exception": false,
     "start_time": "2020-12-12T11:19:27.815878",
     "status": "completed"
    },
    "tags": []
   },
   "source": [
    "lets look at one of the users, e.g. the one with userID=1130\n"
   ]
  },
  {
   "cell_type": "code",
   "execution_count": 26,
   "metadata": {
    "execution": {
     "iopub.execute_input": "2020-12-12T11:19:27.955950Z",
     "iopub.status.busy": "2020-12-12T11:19:27.954868Z",
     "iopub.status.idle": "2020-12-12T11:19:40.611526Z",
     "shell.execute_reply": "2020-12-12T11:19:40.610881Z"
    },
    "papermill": {
     "duration": 12.707383,
     "end_time": "2020-12-12T11:19:40.611668",
     "exception": false,
     "start_time": "2020-12-12T11:19:27.904285",
     "status": "completed"
    },
    "tags": []
   },
   "outputs": [
    {
     "data": {
      "text/html": [
       "<div>\n",
       "<style scoped>\n",
       "    .dataframe tbody tr th:only-of-type {\n",
       "        vertical-align: middle;\n",
       "    }\n",
       "\n",
       "    .dataframe tbody tr th {\n",
       "        vertical-align: top;\n",
       "    }\n",
       "\n",
       "    .dataframe thead th {\n",
       "        text-align: right;\n",
       "    }\n",
       "</style>\n",
       "<table border=\"1\" class=\"dataframe\">\n",
       "  <thead>\n",
       "    <tr style=\"text-align: right;\">\n",
       "      <th></th>\n",
       "      <th>userId</th>\n",
       "      <th>movieId</th>\n",
       "      <th>rating</th>\n",
       "    </tr>\n",
       "  </thead>\n",
       "  <tbody>\n",
       "    <tr>\n",
       "      <th>109</th>\n",
       "      <td>320</td>\n",
       "      <td>296</td>\n",
       "      <td>4.5</td>\n",
       "    </tr>\n",
       "  </tbody>\n",
       "</table>\n",
       "</div>"
      ],
      "text/plain": [
       "     userId  movieId  rating\n",
       "109     320      296     4.5"
      ]
     },
     "execution_count": 26,
     "metadata": {},
     "output_type": "execute_result"
    }
   ],
   "source": [
    "userSubsetGroup.get_group(320)"
   ]
  },
  {
   "cell_type": "markdown",
   "metadata": {
    "papermill": {
     "duration": 0.044633,
     "end_time": "2020-12-12T11:19:40.701641",
     "exception": false,
     "start_time": "2020-12-12T11:19:40.657008",
     "status": "completed"
    },
    "tags": []
   },
   "source": [
    "Let's also sort these groups so the users that share the most movies in common with the input have higher priority. This provides a richer recommendation since we won't go through every single user.\n"
   ]
  },
  {
   "cell_type": "code",
   "execution_count": 27,
   "metadata": {
    "execution": {
     "iopub.execute_input": "2020-12-12T11:19:40.796951Z",
     "iopub.status.busy": "2020-12-12T11:19:40.796145Z",
     "iopub.status.idle": "2020-12-12T11:19:46.969275Z",
     "shell.execute_reply": "2020-12-12T11:19:46.968641Z"
    },
    "papermill": {
     "duration": 6.223018,
     "end_time": "2020-12-12T11:19:46.969407",
     "exception": false,
     "start_time": "2020-12-12T11:19:40.746389",
     "status": "completed"
    },
    "tags": []
   },
   "outputs": [],
   "source": [
    "#Sorting it so users with movie most in common with the input will have priority\n",
    "userSubsetGroup = sorted(userSubsetGroup,  key=lambda x: len(x[1]), reverse=True)"
   ]
  },
  {
   "cell_type": "code",
   "execution_count": 28,
   "metadata": {
    "execution": {
     "iopub.execute_input": "2020-12-12T11:19:47.072037Z",
     "iopub.status.busy": "2020-12-12T11:19:47.071148Z",
     "iopub.status.idle": "2020-12-12T11:19:47.075666Z",
     "shell.execute_reply": "2020-12-12T11:19:47.075012Z"
    },
    "papermill": {
     "duration": 0.061346,
     "end_time": "2020-12-12T11:19:47.075798",
     "exception": false,
     "start_time": "2020-12-12T11:19:47.014452",
     "status": "completed"
    },
    "tags": []
   },
   "outputs": [
    {
     "data": {
      "text/plain": [
       "[(2988,\n",
       "          userId  movieId  rating\n",
       "  241710    2988        1     3.0\n",
       "  241711    2988        2     2.5\n",
       "  241744    2988      296     5.0\n",
       "  241862    2988     1274     2.5\n",
       "  241919    2988     1968     5.0),\n",
       " (10387,\n",
       "         userId  movieId  rating\n",
       "  37471   10387        1     4.0\n",
       "  37472   10387        2     3.5\n",
       "  37497   10387      296     5.0\n",
       "  37587   10387     1274     4.5\n",
       "  37631   10387     1968     4.5),\n",
       " (10514,\n",
       "          userId  movieId  rating\n",
       "  231038   10514        1     4.0\n",
       "  231039   10514        2     3.0\n",
       "  231088   10514      296     5.0\n",
       "  231255   10514     1274     3.5\n",
       "  231345   10514     1968     4.0)]"
      ]
     },
     "execution_count": 28,
     "metadata": {},
     "output_type": "execute_result"
    }
   ],
   "source": [
    "userSubsetGroup[0:3]"
   ]
  },
  {
   "cell_type": "markdown",
   "metadata": {
    "papermill": {
     "duration": 0.045785,
     "end_time": "2020-12-12T11:19:47.168344",
     "exception": false,
     "start_time": "2020-12-12T11:19:47.122559",
     "status": "completed"
    },
    "tags": []
   },
   "source": [
    "# Find Similar Users"
   ]
  },
  {
   "cell_type": "markdown",
   "metadata": {
    "papermill": {
     "duration": 0.045373,
     "end_time": "2020-12-12T11:19:47.259908",
     "exception": false,
     "start_time": "2020-12-12T11:19:47.214535",
     "status": "completed"
    },
    "tags": []
   },
   "source": [
    "#### Similarity of users to input user\n",
    "\n",
    "Next, we are going to compare all users (not really all !!!) to our specified user and find the one that is most similar.  \n",
    "we're going to find out how similar each user is to the input through the **Pearson Correlation Coefficient**. It is used to measure the strength of a linear association between two variables. The formula for finding this coefficient between sets X and Y with N values can be seen in the image below. \n",
    "\n",
    "Why Pearson Correlation?\n",
    "\n",
    "Pearson correlation is invariant to scaling, i.e. multiplying all elements by a nonzero constant or adding any constant to all elements. For example, if you have two vectors X and Y,then, pearson(X, Y) == pearson(X, 2 * Y + 3). This is a pretty important property in recommendation systems because for example two users might rate two series of items totally different in terms of absolute rates, but they would be similar users (i.e. with similar ideas) with similar rates in various scales .\n",
    "\n",
    "![alt text](https://wikimedia.org/api/rest_v1/media/math/render/svg/bd1ccc2979b0fd1c1aec96e386f686ae874f9ec0 \"Pearson Correlation\")\n",
    "\n",
    "The values given by the formula vary from r = -1 to r = 1, where 1 forms a direct correlation between the two entities (it means a perfect positive correlation) and -1 forms a perfect negative correlation. \n",
    "\n",
    "In our case, a 1 means that the two users have similar tastes while a -1 means the opposite.\n",
    "\n",
    "We will select a subset of users to iterate through. This limit is imposed because we don't want to waste too much time going through every single user.\n"
   ]
  },
  {
   "cell_type": "code",
   "execution_count": 29,
   "metadata": {
    "execution": {
     "iopub.execute_input": "2020-12-12T11:19:47.615416Z",
     "iopub.status.busy": "2020-12-12T11:19:47.614678Z",
     "iopub.status.idle": "2020-12-12T11:19:47.617964Z",
     "shell.execute_reply": "2020-12-12T11:19:47.617232Z"
    },
    "papermill": {
     "duration": 0.312005,
     "end_time": "2020-12-12T11:19:47.618085",
     "exception": false,
     "start_time": "2020-12-12T11:19:47.306080",
     "status": "completed"
    },
    "tags": []
   },
   "outputs": [],
   "source": [
    "userSubsetGroup = userSubsetGroup[0:100]"
   ]
  },
  {
   "cell_type": "markdown",
   "metadata": {
    "papermill": {
     "duration": 0.045159,
     "end_time": "2020-12-12T11:19:47.709013",
     "exception": false,
     "start_time": "2020-12-12T11:19:47.663854",
     "status": "completed"
    },
    "tags": []
   },
   "source": [
    "Now, we calculate the Pearson Correlation between input user and subset group, and store it in a dictionary, where the key is the user Id and the value is the coefficient\n"
   ]
  },
  {
   "cell_type": "code",
   "execution_count": 30,
   "metadata": {
    "execution": {
     "iopub.execute_input": "2020-12-12T11:19:47.865946Z",
     "iopub.status.busy": "2020-12-12T11:19:47.817875Z",
     "iopub.status.idle": "2020-12-12T11:19:47.990267Z",
     "shell.execute_reply": "2020-12-12T11:19:47.989482Z"
    },
    "papermill": {
     "duration": 0.235732,
     "end_time": "2020-12-12T11:19:47.990389",
     "exception": false,
     "start_time": "2020-12-12T11:19:47.754657",
     "status": "completed"
    },
    "tags": []
   },
   "outputs": [],
   "source": [
    "#Store the Pearson Correlation in a dictionary, where the key is the user Id and the value is the coefficient\n",
    "pearsonCorrelationDict = {}\n",
    "\n",
    "#For every user group in our subset\n",
    "for name, group in userSubsetGroup:\n",
    "    #Let's start by sorting the input and current user group so the values aren't mixed up later on\n",
    "    group = group.sort_values(by='movieId')\n",
    "    inputMovies = inputMovies.sort_values(by='movieId')\n",
    "    #Get the N for the formula\n",
    "    nRatings = len(group)\n",
    "    #Get the review scores for the movies that they both have in common\n",
    "    temp_df = inputMovies[inputMovies['movieId'].isin(group['movieId'].tolist())]\n",
    "    #And then store them in a temporary buffer variable in a list format to facilitate future calculations\n",
    "    tempRatingList = temp_df['rating'].tolist()\n",
    "    #Let's also put the current user group reviews in a list format\n",
    "    tempGroupList = group['rating'].tolist()\n",
    "    #Now let's calculate the pearson correlation between two users, so called, x and y\n",
    "    Sxx = sum([i**2 for i in tempRatingList]) - pow(sum(tempRatingList),2)/float(nRatings)\n",
    "    Syy = sum([i**2 for i in tempGroupList]) - pow(sum(tempGroupList),2)/float(nRatings)\n",
    "    Sxy = sum( i*j for i, j in zip(tempRatingList, tempGroupList)) - sum(tempRatingList)*sum(tempGroupList)/float(nRatings)\n",
    "    \n",
    "    #If the denominator is different than zero, then divide, else, 0 correlation.\n",
    "    if Sxx != 0 and Syy != 0:\n",
    "        pearsonCorrelationDict[name] = Sxy/sqrt(Sxx*Syy)\n",
    "    else:\n",
    "        pearsonCorrelationDict[name] = 0\n"
   ]
  },
  {
   "cell_type": "code",
   "execution_count": 31,
   "metadata": {
    "execution": {
     "iopub.execute_input": "2020-12-12T11:19:48.088334Z",
     "iopub.status.busy": "2020-12-12T11:19:48.087419Z",
     "iopub.status.idle": "2020-12-12T11:19:48.091921Z",
     "shell.execute_reply": "2020-12-12T11:19:48.091341Z"
    },
    "papermill": {
     "duration": 0.055702,
     "end_time": "2020-12-12T11:19:48.092046",
     "exception": false,
     "start_time": "2020-12-12T11:19:48.036344",
     "status": "completed"
    },
    "tags": []
   },
   "outputs": [
    {
     "data": {
      "text/plain": [
       "dict_items([(2988, 0.7197795937681559), (10387, 0.9460287597114506), (10514, 0.727218092353424), (12271, 0.8594395636904102), (12778, 0.20391184757154632), (18390, 0.8770580193070299), (23171, 0.3440104580768911), (24112, 0.804843636585534), (25411, 0.4902903378454601), (34494, 0.35805743701971815), (34587, 0.968581275964845), (35227, 0.657793514480273), (36628, -0.16984155512168936), (40768, 0.8770580193070299), (41941, 0.34633002829842735), (42096, 0.36184651012596986), (45015, 0.5765566601970551), (45461, 0.9024852563942795), (48410, 0.21926450482675722), (48821, 0.8770580193070289), (53413, 0.537086155529574), (58346, 0.877058019307029), (58612, 0.554700196225229), (62805, 0.45124262819713973), (68558, 0.4728779924109591), (75438, 0.9866902717204096), (76164, 0.17902871850985827), (77512, -0.6577935144802716), (84752, 0.11720180773462363), (86768, 0.905206050195776), (96370, 0.11720180773462392), (96482, 0.9434563530497265), (97953, 0.0), (102532, 0.05860090386731196), (103872, 0.803969851031444), (104037, 0.3440104580768906), (114601, 0.6446099425404316), (117918, 0.7608720536668977), (120067, -0.4385290096535153), (124683, 0.5266563052934291), (131630, 0.8600261451922278), (134181, 0.29417420270727607), (135418, 0.24019223070763068), (359, -0.408248290463863), (370, 1.0), (1741, -0.5222329678670935), (2024, 0.8728715609439696), (3076, -0.47140452079103173), (4347, 0), (4629, 0.674199862463242), (5063, 0.30662207033593325), (5475, 0.4082482904638631), (7723, -0.0890870806374748), (8932, -0.2721655269759087), (10164, -0.9428090415820635), (12288, 0.7237468644557459), (12649, 0.9534625892455922), (13565, 0.7385489458759964), (13700, 0.8861418804606043), (16883, 0.9307578419910345), (17022, 0.45454545454545453), (17318, 0.9045340337332909), (18758, 0.47140452079103173), (18877, 0.7816608327818948), (21280, 0.5222329678670935), (21391, 0.5222329678670935), (21860, 0.25031308716087947), (22377, -0.3333333333333333), (23433, 0.9045340337332908), (24884, 0.8181818181818182), (25268, -0.385694607919935), (26222, 0.7458152383799166), (26480, 0.9045340337332909), (27898, 0.8819171036881969), (28340, 0.8703882797784892), (31273, -0.09090909090909091), (31321, 0.5222329678670935), (31921, -0.6534196381862065), (38159, 0.9198662110077999), (38605, 0.6363636363636364), (39214, -0.8703882797784892), (39271, 0.5222329678670935), (41613, 0.8728715609439696), (42290, 0.20998026278290402), (42367, 0.6666666666666666), (42399, -0.09090909090909091), (43599, 0.40451991747794525), (44086, -0.769800358919501), (45619, -0.2508726030021272), (46645, 0.8553372034476997), (47150, 0.058025885318565944), (47566, 0.629940788348712), (47866, 0.12104550653376049), (47953, 0.3450327796711771), (48838, -0.5222329678670935), (50898, 0.7715167498104595), (52004, -0.5606119105813882), (52520, 0.1654758480803738), (52762, 0.5222329678670935), (53113, -0.13483997249264842)])"
      ]
     },
     "execution_count": 31,
     "metadata": {},
     "output_type": "execute_result"
    }
   ],
   "source": [
    "pearsonCorrelationDict.items()"
   ]
  },
  {
   "cell_type": "code",
   "execution_count": 32,
   "metadata": {
    "execution": {
     "iopub.execute_input": "2020-12-12T11:19:48.201082Z",
     "iopub.status.busy": "2020-12-12T11:19:48.200227Z",
     "iopub.status.idle": "2020-12-12T11:19:48.204711Z",
     "shell.execute_reply": "2020-12-12T11:19:48.204119Z"
    },
    "papermill": {
     "duration": 0.065404,
     "end_time": "2020-12-12T11:19:48.204836",
     "exception": false,
     "start_time": "2020-12-12T11:19:48.139432",
     "status": "completed"
    },
    "tags": []
   },
   "outputs": [
    {
     "data": {
      "text/html": [
       "<div>\n",
       "<style scoped>\n",
       "    .dataframe tbody tr th:only-of-type {\n",
       "        vertical-align: middle;\n",
       "    }\n",
       "\n",
       "    .dataframe tbody tr th {\n",
       "        vertical-align: top;\n",
       "    }\n",
       "\n",
       "    .dataframe thead th {\n",
       "        text-align: right;\n",
       "    }\n",
       "</style>\n",
       "<table border=\"1\" class=\"dataframe\">\n",
       "  <thead>\n",
       "    <tr style=\"text-align: right;\">\n",
       "      <th></th>\n",
       "      <th>similarityIndex</th>\n",
       "      <th>userId</th>\n",
       "    </tr>\n",
       "  </thead>\n",
       "  <tbody>\n",
       "    <tr>\n",
       "      <th>0</th>\n",
       "      <td>0.719780</td>\n",
       "      <td>2988</td>\n",
       "    </tr>\n",
       "    <tr>\n",
       "      <th>1</th>\n",
       "      <td>0.946029</td>\n",
       "      <td>10387</td>\n",
       "    </tr>\n",
       "    <tr>\n",
       "      <th>2</th>\n",
       "      <td>0.727218</td>\n",
       "      <td>10514</td>\n",
       "    </tr>\n",
       "    <tr>\n",
       "      <th>3</th>\n",
       "      <td>0.859440</td>\n",
       "      <td>12271</td>\n",
       "    </tr>\n",
       "    <tr>\n",
       "      <th>4</th>\n",
       "      <td>0.203912</td>\n",
       "      <td>12778</td>\n",
       "    </tr>\n",
       "  </tbody>\n",
       "</table>\n",
       "</div>"
      ],
      "text/plain": [
       "   similarityIndex  userId\n",
       "0         0.719780    2988\n",
       "1         0.946029   10387\n",
       "2         0.727218   10514\n",
       "3         0.859440   12271\n",
       "4         0.203912   12778"
      ]
     },
     "execution_count": 32,
     "metadata": {},
     "output_type": "execute_result"
    }
   ],
   "source": [
    "pearsonDF = pd.DataFrame.from_dict(pearsonCorrelationDict, orient='index')\n",
    "pearsonDF.columns = ['similarityIndex']\n",
    "pearsonDF['userId'] = pearsonDF.index\n",
    "pearsonDF.index = range(len(pearsonDF))\n",
    "pearsonDF.head()"
   ]
  },
  {
   "cell_type": "markdown",
   "metadata": {
    "papermill": {
     "duration": 0.046631,
     "end_time": "2020-12-12T11:19:48.298932",
     "exception": false,
     "start_time": "2020-12-12T11:19:48.252301",
     "status": "completed"
    },
    "tags": []
   },
   "source": [
    "#### The top x similar users to input user\n",
    "\n",
    "Now let's get the top 50 users that are most similar to the input.\n"
   ]
  },
  {
   "cell_type": "code",
   "execution_count": 33,
   "metadata": {
    "execution": {
     "iopub.execute_input": "2020-12-12T11:19:48.407144Z",
     "iopub.status.busy": "2020-12-12T11:19:48.406220Z",
     "iopub.status.idle": "2020-12-12T11:19:48.410373Z",
     "shell.execute_reply": "2020-12-12T11:19:48.409655Z"
    },
    "papermill": {
     "duration": 0.063661,
     "end_time": "2020-12-12T11:19:48.410501",
     "exception": false,
     "start_time": "2020-12-12T11:19:48.346840",
     "status": "completed"
    },
    "tags": []
   },
   "outputs": [
    {
     "data": {
      "text/html": [
       "<div>\n",
       "<style scoped>\n",
       "    .dataframe tbody tr th:only-of-type {\n",
       "        vertical-align: middle;\n",
       "    }\n",
       "\n",
       "    .dataframe tbody tr th {\n",
       "        vertical-align: top;\n",
       "    }\n",
       "\n",
       "    .dataframe thead th {\n",
       "        text-align: right;\n",
       "    }\n",
       "</style>\n",
       "<table border=\"1\" class=\"dataframe\">\n",
       "  <thead>\n",
       "    <tr style=\"text-align: right;\">\n",
       "      <th></th>\n",
       "      <th>similarityIndex</th>\n",
       "      <th>userId</th>\n",
       "    </tr>\n",
       "  </thead>\n",
       "  <tbody>\n",
       "    <tr>\n",
       "      <th>44</th>\n",
       "      <td>1.000000</td>\n",
       "      <td>370</td>\n",
       "    </tr>\n",
       "    <tr>\n",
       "      <th>25</th>\n",
       "      <td>0.986690</td>\n",
       "      <td>75438</td>\n",
       "    </tr>\n",
       "    <tr>\n",
       "      <th>10</th>\n",
       "      <td>0.968581</td>\n",
       "      <td>34587</td>\n",
       "    </tr>\n",
       "    <tr>\n",
       "      <th>56</th>\n",
       "      <td>0.953463</td>\n",
       "      <td>12649</td>\n",
       "    </tr>\n",
       "    <tr>\n",
       "      <th>1</th>\n",
       "      <td>0.946029</td>\n",
       "      <td>10387</td>\n",
       "    </tr>\n",
       "  </tbody>\n",
       "</table>\n",
       "</div>"
      ],
      "text/plain": [
       "    similarityIndex  userId\n",
       "44         1.000000     370\n",
       "25         0.986690   75438\n",
       "10         0.968581   34587\n",
       "56         0.953463   12649\n",
       "1          0.946029   10387"
      ]
     },
     "execution_count": 33,
     "metadata": {},
     "output_type": "execute_result"
    }
   ],
   "source": [
    "topUsers=pearsonDF.sort_values(by='similarityIndex', ascending=False)[0:50]\n",
    "topUsers.head()"
   ]
  },
  {
   "cell_type": "markdown",
   "metadata": {
    "papermill": {
     "duration": 0.04831,
     "end_time": "2020-12-12T11:19:48.507193",
     "exception": false,
     "start_time": "2020-12-12T11:19:48.458883",
     "status": "completed"
    },
    "tags": []
   },
   "source": [
    "Now, let's start recommending movies to the input user.\n",
    "\n",
    "#### Rating of selected users to all movies\n",
    "\n",
    "We're going to do this by taking the weighted average of the ratings of the movies using the Pearson Correlation as the weight. But to do this, we first need to get the movies watched by the users in our **pearsonDF** from the ratings dataframe and then store their correlation in a new column called _similarityIndex\". This is achieved below by merging of these two tables.\n"
   ]
  },
  {
   "cell_type": "markdown",
   "metadata": {
    "papermill": {
     "duration": 0.047633,
     "end_time": "2020-12-12T11:19:48.602919",
     "exception": false,
     "start_time": "2020-12-12T11:19:48.555286",
     "status": "completed"
    },
    "tags": []
   },
   "source": [
    "# Recommend Movies"
   ]
  },
  {
   "cell_type": "code",
   "execution_count": 34,
   "metadata": {
    "execution": {
     "iopub.execute_input": "2020-12-12T11:19:48.705373Z",
     "iopub.status.busy": "2020-12-12T11:19:48.704620Z",
     "iopub.status.idle": "2020-12-12T11:19:50.025041Z",
     "shell.execute_reply": "2020-12-12T11:19:50.023489Z"
    },
    "papermill": {
     "duration": 1.374241,
     "end_time": "2020-12-12T11:19:50.025178",
     "exception": false,
     "start_time": "2020-12-12T11:19:48.650937",
     "status": "completed"
    },
    "tags": []
   },
   "outputs": [
    {
     "data": {
      "text/html": [
       "<div>\n",
       "<style scoped>\n",
       "    .dataframe tbody tr th:only-of-type {\n",
       "        vertical-align: middle;\n",
       "    }\n",
       "\n",
       "    .dataframe tbody tr th {\n",
       "        vertical-align: top;\n",
       "    }\n",
       "\n",
       "    .dataframe thead th {\n",
       "        text-align: right;\n",
       "    }\n",
       "</style>\n",
       "<table border=\"1\" class=\"dataframe\">\n",
       "  <thead>\n",
       "    <tr style=\"text-align: right;\">\n",
       "      <th></th>\n",
       "      <th>similarityIndex</th>\n",
       "      <th>userId</th>\n",
       "      <th>movieId</th>\n",
       "      <th>rating</th>\n",
       "    </tr>\n",
       "  </thead>\n",
       "  <tbody>\n",
       "    <tr>\n",
       "      <th>0</th>\n",
       "      <td>1.0</td>\n",
       "      <td>370</td>\n",
       "      <td>1</td>\n",
       "      <td>4.5</td>\n",
       "    </tr>\n",
       "    <tr>\n",
       "      <th>1</th>\n",
       "      <td>1.0</td>\n",
       "      <td>370</td>\n",
       "      <td>2</td>\n",
       "      <td>4.0</td>\n",
       "    </tr>\n",
       "    <tr>\n",
       "      <th>2</th>\n",
       "      <td>1.0</td>\n",
       "      <td>370</td>\n",
       "      <td>6</td>\n",
       "      <td>5.0</td>\n",
       "    </tr>\n",
       "    <tr>\n",
       "      <th>3</th>\n",
       "      <td>1.0</td>\n",
       "      <td>370</td>\n",
       "      <td>25</td>\n",
       "      <td>4.5</td>\n",
       "    </tr>\n",
       "    <tr>\n",
       "      <th>4</th>\n",
       "      <td>1.0</td>\n",
       "      <td>370</td>\n",
       "      <td>32</td>\n",
       "      <td>5.0</td>\n",
       "    </tr>\n",
       "  </tbody>\n",
       "</table>\n",
       "</div>"
      ],
      "text/plain": [
       "   similarityIndex  userId  movieId  rating\n",
       "0              1.0     370        1     4.5\n",
       "1              1.0     370        2     4.0\n",
       "2              1.0     370        6     5.0\n",
       "3              1.0     370       25     4.5\n",
       "4              1.0     370       32     5.0"
      ]
     },
     "execution_count": 34,
     "metadata": {},
     "output_type": "execute_result"
    }
   ],
   "source": [
    "topUsersRating=topUsers.merge(ratings_df, left_on='userId', right_on='userId', how='inner')\n",
    "topUsersRating.head()"
   ]
  },
  {
   "cell_type": "markdown",
   "metadata": {
    "papermill": {
     "duration": 0.048668,
     "end_time": "2020-12-12T11:19:50.126163",
     "exception": false,
     "start_time": "2020-12-12T11:19:50.077495",
     "status": "completed"
    },
    "tags": []
   },
   "source": [
    "Now all we need to do is simply multiply the movie rating by its weight (The similarity index), then sum up the new ratings and divide it by the sum of the weights.\n",
    "\n",
    "We can easily do this by simply multiplying two columns, then grouping up the dataframe by movieId and then dividing two columns:\n",
    "\n",
    "It shows the idea of all similar users to candidate movies for the input user:\n"
   ]
  },
  {
   "cell_type": "code",
   "execution_count": 35,
   "metadata": {
    "execution": {
     "iopub.execute_input": "2020-12-12T11:19:50.230951Z",
     "iopub.status.busy": "2020-12-12T11:19:50.230218Z",
     "iopub.status.idle": "2020-12-12T11:19:50.264497Z",
     "shell.execute_reply": "2020-12-12T11:19:50.263860Z"
    },
    "papermill": {
     "duration": 0.088743,
     "end_time": "2020-12-12T11:19:50.264633",
     "exception": false,
     "start_time": "2020-12-12T11:19:50.175890",
     "status": "completed"
    },
    "tags": []
   },
   "outputs": [
    {
     "data": {
      "text/html": [
       "<div>\n",
       "<style scoped>\n",
       "    .dataframe tbody tr th:only-of-type {\n",
       "        vertical-align: middle;\n",
       "    }\n",
       "\n",
       "    .dataframe tbody tr th {\n",
       "        vertical-align: top;\n",
       "    }\n",
       "\n",
       "    .dataframe thead th {\n",
       "        text-align: right;\n",
       "    }\n",
       "</style>\n",
       "<table border=\"1\" class=\"dataframe\">\n",
       "  <thead>\n",
       "    <tr style=\"text-align: right;\">\n",
       "      <th></th>\n",
       "      <th>similarityIndex</th>\n",
       "      <th>userId</th>\n",
       "      <th>movieId</th>\n",
       "      <th>rating</th>\n",
       "      <th>weightedRating</th>\n",
       "    </tr>\n",
       "  </thead>\n",
       "  <tbody>\n",
       "    <tr>\n",
       "      <th>0</th>\n",
       "      <td>1.0</td>\n",
       "      <td>370</td>\n",
       "      <td>1</td>\n",
       "      <td>4.5</td>\n",
       "      <td>4.5</td>\n",
       "    </tr>\n",
       "    <tr>\n",
       "      <th>1</th>\n",
       "      <td>1.0</td>\n",
       "      <td>370</td>\n",
       "      <td>2</td>\n",
       "      <td>4.0</td>\n",
       "      <td>4.0</td>\n",
       "    </tr>\n",
       "    <tr>\n",
       "      <th>2</th>\n",
       "      <td>1.0</td>\n",
       "      <td>370</td>\n",
       "      <td>6</td>\n",
       "      <td>5.0</td>\n",
       "      <td>5.0</td>\n",
       "    </tr>\n",
       "    <tr>\n",
       "      <th>3</th>\n",
       "      <td>1.0</td>\n",
       "      <td>370</td>\n",
       "      <td>25</td>\n",
       "      <td>4.5</td>\n",
       "      <td>4.5</td>\n",
       "    </tr>\n",
       "    <tr>\n",
       "      <th>4</th>\n",
       "      <td>1.0</td>\n",
       "      <td>370</td>\n",
       "      <td>32</td>\n",
       "      <td>5.0</td>\n",
       "      <td>5.0</td>\n",
       "    </tr>\n",
       "  </tbody>\n",
       "</table>\n",
       "</div>"
      ],
      "text/plain": [
       "   similarityIndex  userId  movieId  rating  weightedRating\n",
       "0              1.0     370        1     4.5             4.5\n",
       "1              1.0     370        2     4.0             4.0\n",
       "2              1.0     370        6     5.0             5.0\n",
       "3              1.0     370       25     4.5             4.5\n",
       "4              1.0     370       32     5.0             5.0"
      ]
     },
     "execution_count": 35,
     "metadata": {},
     "output_type": "execute_result"
    }
   ],
   "source": [
    "#Multiplies the similarity by the user's ratings\n",
    "topUsersRating['weightedRating'] = topUsersRating['similarityIndex']*topUsersRating['rating']\n",
    "topUsersRating.head()"
   ]
  },
  {
   "cell_type": "code",
   "execution_count": 36,
   "metadata": {
    "execution": {
     "iopub.execute_input": "2020-12-12T11:19:50.372573Z",
     "iopub.status.busy": "2020-12-12T11:19:50.371816Z",
     "iopub.status.idle": "2020-12-12T11:19:50.393033Z",
     "shell.execute_reply": "2020-12-12T11:19:50.392239Z"
    },
    "papermill": {
     "duration": 0.078947,
     "end_time": "2020-12-12T11:19:50.393166",
     "exception": false,
     "start_time": "2020-12-12T11:19:50.314219",
     "status": "completed"
    },
    "tags": []
   },
   "outputs": [
    {
     "data": {
      "text/html": [
       "<div>\n",
       "<style scoped>\n",
       "    .dataframe tbody tr th:only-of-type {\n",
       "        vertical-align: middle;\n",
       "    }\n",
       "\n",
       "    .dataframe tbody tr th {\n",
       "        vertical-align: top;\n",
       "    }\n",
       "\n",
       "    .dataframe thead th {\n",
       "        text-align: right;\n",
       "    }\n",
       "</style>\n",
       "<table border=\"1\" class=\"dataframe\">\n",
       "  <thead>\n",
       "    <tr style=\"text-align: right;\">\n",
       "      <th></th>\n",
       "      <th>sum_similarityIndex</th>\n",
       "      <th>sum_weightedRating</th>\n",
       "    </tr>\n",
       "    <tr>\n",
       "      <th>movieId</th>\n",
       "      <th></th>\n",
       "      <th></th>\n",
       "    </tr>\n",
       "  </thead>\n",
       "  <tbody>\n",
       "    <tr>\n",
       "      <th>1</th>\n",
       "      <td>38.408840</td>\n",
       "      <td>144.131161</td>\n",
       "    </tr>\n",
       "    <tr>\n",
       "      <th>2</th>\n",
       "      <td>38.560355</td>\n",
       "      <td>108.815918</td>\n",
       "    </tr>\n",
       "    <tr>\n",
       "      <th>3</th>\n",
       "      <td>9.992688</td>\n",
       "      <td>31.514031</td>\n",
       "    </tr>\n",
       "    <tr>\n",
       "      <th>4</th>\n",
       "      <td>2.033742</td>\n",
       "      <td>4.485942</td>\n",
       "    </tr>\n",
       "    <tr>\n",
       "      <th>5</th>\n",
       "      <td>9.641658</td>\n",
       "      <td>25.625686</td>\n",
       "    </tr>\n",
       "  </tbody>\n",
       "</table>\n",
       "</div>"
      ],
      "text/plain": [
       "         sum_similarityIndex  sum_weightedRating\n",
       "movieId                                         \n",
       "1                  38.408840          144.131161\n",
       "2                  38.560355          108.815918\n",
       "3                   9.992688           31.514031\n",
       "4                   2.033742            4.485942\n",
       "5                   9.641658           25.625686"
      ]
     },
     "execution_count": 36,
     "metadata": {},
     "output_type": "execute_result"
    }
   ],
   "source": [
    "#Applies a sum to the topUsers after grouping it up by userId\n",
    "tempTopUsersRating = topUsersRating.groupby('movieId').sum()[['similarityIndex','weightedRating']]\n",
    "tempTopUsersRating.columns = ['sum_similarityIndex','sum_weightedRating']\n",
    "tempTopUsersRating.head()"
   ]
  },
  {
   "cell_type": "code",
   "execution_count": 37,
   "metadata": {
    "execution": {
     "iopub.execute_input": "2020-12-12T11:19:50.516643Z",
     "iopub.status.busy": "2020-12-12T11:19:50.515736Z",
     "iopub.status.idle": "2020-12-12T11:19:50.520477Z",
     "shell.execute_reply": "2020-12-12T11:19:50.519907Z"
    },
    "papermill": {
     "duration": 0.072346,
     "end_time": "2020-12-12T11:19:50.520665",
     "exception": false,
     "start_time": "2020-12-12T11:19:50.448319",
     "status": "completed"
    },
    "tags": []
   },
   "outputs": [
    {
     "data": {
      "text/html": [
       "<div>\n",
       "<style scoped>\n",
       "    .dataframe tbody tr th:only-of-type {\n",
       "        vertical-align: middle;\n",
       "    }\n",
       "\n",
       "    .dataframe tbody tr th {\n",
       "        vertical-align: top;\n",
       "    }\n",
       "\n",
       "    .dataframe thead th {\n",
       "        text-align: right;\n",
       "    }\n",
       "</style>\n",
       "<table border=\"1\" class=\"dataframe\">\n",
       "  <thead>\n",
       "    <tr style=\"text-align: right;\">\n",
       "      <th></th>\n",
       "      <th>weighted average recommendation score</th>\n",
       "      <th>movieId</th>\n",
       "    </tr>\n",
       "    <tr>\n",
       "      <th>movieId</th>\n",
       "      <th></th>\n",
       "      <th></th>\n",
       "    </tr>\n",
       "  </thead>\n",
       "  <tbody>\n",
       "    <tr>\n",
       "      <th>1</th>\n",
       "      <td>3.752552</td>\n",
       "      <td>1</td>\n",
       "    </tr>\n",
       "    <tr>\n",
       "      <th>2</th>\n",
       "      <td>2.821964</td>\n",
       "      <td>2</td>\n",
       "    </tr>\n",
       "    <tr>\n",
       "      <th>3</th>\n",
       "      <td>3.153709</td>\n",
       "      <td>3</td>\n",
       "    </tr>\n",
       "    <tr>\n",
       "      <th>4</th>\n",
       "      <td>2.205758</td>\n",
       "      <td>4</td>\n",
       "    </tr>\n",
       "    <tr>\n",
       "      <th>5</th>\n",
       "      <td>2.657809</td>\n",
       "      <td>5</td>\n",
       "    </tr>\n",
       "  </tbody>\n",
       "</table>\n",
       "</div>"
      ],
      "text/plain": [
       "         weighted average recommendation score  movieId\n",
       "movieId                                                \n",
       "1                                     3.752552        1\n",
       "2                                     2.821964        2\n",
       "3                                     3.153709        3\n",
       "4                                     2.205758        4\n",
       "5                                     2.657809        5"
      ]
     },
     "execution_count": 37,
     "metadata": {},
     "output_type": "execute_result"
    }
   ],
   "source": [
    "#Creates an empty dataframe\n",
    "recommendation_df = pd.DataFrame()\n",
    "#Now we take the weighted average\n",
    "recommendation_df['weighted average recommendation score'] = tempTopUsersRating['sum_weightedRating']/tempTopUsersRating['sum_similarityIndex']\n",
    "recommendation_df['movieId'] = tempTopUsersRating.index\n",
    "recommendation_df.head()"
   ]
  },
  {
   "cell_type": "markdown",
   "metadata": {
    "papermill": {
     "duration": 0.050575,
     "end_time": "2020-12-12T11:19:50.622484",
     "exception": false,
     "start_time": "2020-12-12T11:19:50.571909",
     "status": "completed"
    },
    "tags": []
   },
   "source": [
    "Now let's sort it and see the top 20 movies that the algorithm recommended!\n"
   ]
  },
  {
   "cell_type": "code",
   "execution_count": 38,
   "metadata": {
    "execution": {
     "iopub.execute_input": "2020-12-12T11:19:50.730490Z",
     "iopub.status.busy": "2020-12-12T11:19:50.729759Z",
     "iopub.status.idle": "2020-12-12T11:19:50.741449Z",
     "shell.execute_reply": "2020-12-12T11:19:50.740783Z"
    },
    "papermill": {
     "duration": 0.067937,
     "end_time": "2020-12-12T11:19:50.741576",
     "exception": false,
     "start_time": "2020-12-12T11:19:50.673639",
     "status": "completed"
    },
    "tags": []
   },
   "outputs": [
    {
     "data": {
      "text/html": [
       "<div>\n",
       "<style scoped>\n",
       "    .dataframe tbody tr th:only-of-type {\n",
       "        vertical-align: middle;\n",
       "    }\n",
       "\n",
       "    .dataframe tbody tr th {\n",
       "        vertical-align: top;\n",
       "    }\n",
       "\n",
       "    .dataframe thead th {\n",
       "        text-align: right;\n",
       "    }\n",
       "</style>\n",
       "<table border=\"1\" class=\"dataframe\">\n",
       "  <thead>\n",
       "    <tr style=\"text-align: right;\">\n",
       "      <th></th>\n",
       "      <th>weighted average recommendation score</th>\n",
       "      <th>movieId</th>\n",
       "    </tr>\n",
       "    <tr>\n",
       "      <th>movieId</th>\n",
       "      <th></th>\n",
       "      <th></th>\n",
       "    </tr>\n",
       "  </thead>\n",
       "  <tbody>\n",
       "    <tr>\n",
       "      <th>334</th>\n",
       "      <td>5.000000</td>\n",
       "      <td>334</td>\n",
       "    </tr>\n",
       "    <tr>\n",
       "      <th>213</th>\n",
       "      <td>5.000000</td>\n",
       "      <td>213</td>\n",
       "    </tr>\n",
       "    <tr>\n",
       "      <th>8207</th>\n",
       "      <td>5.000000</td>\n",
       "      <td>8207</td>\n",
       "    </tr>\n",
       "    <tr>\n",
       "      <th>971</th>\n",
       "      <td>4.832797</td>\n",
       "      <td>971</td>\n",
       "    </tr>\n",
       "    <tr>\n",
       "      <th>3067</th>\n",
       "      <td>4.805719</td>\n",
       "      <td>3067</td>\n",
       "    </tr>\n",
       "    <tr>\n",
       "      <th>3819</th>\n",
       "      <td>4.717768</td>\n",
       "      <td>3819</td>\n",
       "    </tr>\n",
       "    <tr>\n",
       "      <th>1243</th>\n",
       "      <td>4.657793</td>\n",
       "      <td>1243</td>\n",
       "    </tr>\n",
       "    <tr>\n",
       "      <th>3260</th>\n",
       "      <td>4.595046</td>\n",
       "      <td>3260</td>\n",
       "    </tr>\n",
       "    <tr>\n",
       "      <th>2303</th>\n",
       "      <td>4.589916</td>\n",
       "      <td>2303</td>\n",
       "    </tr>\n",
       "    <tr>\n",
       "      <th>1949</th>\n",
       "      <td>4.578688</td>\n",
       "      <td>1949</td>\n",
       "    </tr>\n",
       "  </tbody>\n",
       "</table>\n",
       "</div>"
      ],
      "text/plain": [
       "         weighted average recommendation score  movieId\n",
       "movieId                                                \n",
       "334                                   5.000000      334\n",
       "213                                   5.000000      213\n",
       "8207                                  5.000000     8207\n",
       "971                                   4.832797      971\n",
       "3067                                  4.805719     3067\n",
       "3819                                  4.717768     3819\n",
       "1243                                  4.657793     1243\n",
       "3260                                  4.595046     3260\n",
       "2303                                  4.589916     2303\n",
       "1949                                  4.578688     1949"
      ]
     },
     "execution_count": 38,
     "metadata": {},
     "output_type": "execute_result"
    }
   ],
   "source": [
    "recommendation_df = recommendation_df.sort_values(by='weighted average recommendation score', ascending=False)\n",
    "recommendation_df.head(10)"
   ]
  },
  {
   "cell_type": "code",
   "execution_count": 39,
   "metadata": {
    "execution": {
     "iopub.execute_input": "2020-12-12T11:19:50.852111Z",
     "iopub.status.busy": "2020-12-12T11:19:50.851334Z",
     "iopub.status.idle": "2020-12-12T11:19:50.863860Z",
     "shell.execute_reply": "2020-12-12T11:19:50.863126Z"
    },
    "papermill": {
     "duration": 0.070398,
     "end_time": "2020-12-12T11:19:50.863978",
     "exception": false,
     "start_time": "2020-12-12T11:19:50.793580",
     "status": "completed"
    },
    "tags": []
   },
   "outputs": [
    {
     "data": {
      "text/html": [
       "<div>\n",
       "<style scoped>\n",
       "    .dataframe tbody tr th:only-of-type {\n",
       "        vertical-align: middle;\n",
       "    }\n",
       "\n",
       "    .dataframe tbody tr th {\n",
       "        vertical-align: top;\n",
       "    }\n",
       "\n",
       "    .dataframe thead th {\n",
       "        text-align: right;\n",
       "    }\n",
       "</style>\n",
       "<table border=\"1\" class=\"dataframe\">\n",
       "  <thead>\n",
       "    <tr style=\"text-align: right;\">\n",
       "      <th></th>\n",
       "      <th>movieId</th>\n",
       "      <th>title</th>\n",
       "      <th>year</th>\n",
       "    </tr>\n",
       "  </thead>\n",
       "  <tbody>\n",
       "    <tr>\n",
       "      <th>128</th>\n",
       "      <td>213</td>\n",
       "      <td>Burnt by the Sun (Utomlyonnye solntsem)</td>\n",
       "      <td>1994</td>\n",
       "    </tr>\n",
       "    <tr>\n",
       "      <th>198</th>\n",
       "      <td>334</td>\n",
       "      <td>Vanya on 42nd Street</td>\n",
       "      <td>1994</td>\n",
       "    </tr>\n",
       "    <tr>\n",
       "      <th>478</th>\n",
       "      <td>971</td>\n",
       "      <td>Cat on a Hot Tin Roof</td>\n",
       "      <td>1958</td>\n",
       "    </tr>\n",
       "    <tr>\n",
       "      <th>627</th>\n",
       "      <td>1243</td>\n",
       "      <td>Rosencrantz and Guildenstern Are Dead</td>\n",
       "      <td>1990</td>\n",
       "    </tr>\n",
       "    <tr>\n",
       "      <th>912</th>\n",
       "      <td>1949</td>\n",
       "      <td>Man for All Seasons, A</td>\n",
       "      <td>1966</td>\n",
       "    </tr>\n",
       "    <tr>\n",
       "      <th>1081</th>\n",
       "      <td>2303</td>\n",
       "      <td>Nashville</td>\n",
       "      <td>1975</td>\n",
       "    </tr>\n",
       "    <tr>\n",
       "      <th>1397</th>\n",
       "      <td>3067</td>\n",
       "      <td>Women on the Verge of a Nervous Breakdown (Muj...</td>\n",
       "      <td>1988</td>\n",
       "    </tr>\n",
       "    <tr>\n",
       "      <th>1468</th>\n",
       "      <td>3260</td>\n",
       "      <td>Howards End</td>\n",
       "      <td>1992</td>\n",
       "    </tr>\n",
       "    <tr>\n",
       "      <th>1637</th>\n",
       "      <td>3819</td>\n",
       "      <td>Tampopo</td>\n",
       "      <td>1985</td>\n",
       "    </tr>\n",
       "    <tr>\n",
       "      <th>2119</th>\n",
       "      <td>8207</td>\n",
       "      <td>Day of the Jackal, The</td>\n",
       "      <td>1973</td>\n",
       "    </tr>\n",
       "  </tbody>\n",
       "</table>\n",
       "</div>"
      ],
      "text/plain": [
       "      movieId                                              title  year\n",
       "128       213            Burnt by the Sun (Utomlyonnye solntsem)  1994\n",
       "198       334                               Vanya on 42nd Street  1994\n",
       "478       971                              Cat on a Hot Tin Roof  1958\n",
       "627      1243              Rosencrantz and Guildenstern Are Dead  1990\n",
       "912      1949                             Man for All Seasons, A  1966\n",
       "1081     2303                                          Nashville  1975\n",
       "1397     3067  Women on the Verge of a Nervous Breakdown (Muj...  1988\n",
       "1468     3260                                        Howards End  1992\n",
       "1637     3819                                            Tampopo  1985\n",
       "2119     8207                             Day of the Jackal, The  1973"
      ]
     },
     "execution_count": 39,
     "metadata": {},
     "output_type": "execute_result"
    }
   ],
   "source": [
    "movies_df.loc[movies_df['movieId'].isin(recommendation_df.head(10)['movieId'].tolist())]"
   ]
  },
  {
   "cell_type": "markdown",
   "metadata": {
    "papermill": {
     "duration": 0.052578,
     "end_time": "2020-12-12T11:19:50.970829",
     "exception": false,
     "start_time": "2020-12-12T11:19:50.918251",
     "status": "completed"
    },
    "tags": []
   },
   "source": [
    "### Advantages and Disadvantages of Collaborative Filtering\n",
    "\n",
    "##### Advantages\n",
    "\n",
    "-   Takes other user's ratings into consideration\n",
    "-   Doesn't need to study or extract information from the recommended item\n",
    "-   Adapts to the user's interests which might change over time\n",
    "\n",
    "##### Disadvantages\n",
    "\n",
    "-   Approximation function can be slow\n",
    "-   There might be a low of amount of users to approximate\n",
    "-   Privacy issues when trying to learn the user's preferences"
   ]
  },
  {
   "cell_type": "code",
   "execution_count": null,
   "metadata": {
    "papermill": {
     "duration": 0.052285,
     "end_time": "2020-12-12T11:19:51.075553",
     "exception": false,
     "start_time": "2020-12-12T11:19:51.023268",
     "status": "completed"
    },
    "tags": []
   },
   "outputs": [],
   "source": []
  }
 ],
 "metadata": {
  "kernelspec": {
   "display_name": "Python 3",
   "language": "python",
   "name": "python3"
  },
  "language_info": {
   "codemirror_mode": {
    "name": "ipython",
    "version": 3
   },
   "file_extension": ".py",
   "mimetype": "text/x-python",
   "name": "python",
   "nbconvert_exporter": "python",
   "pygments_lexer": "ipython3",
   "version": "3.8.9"
  },
  "papermill": {
   "duration": 59.245968,
   "end_time": "2020-12-12T11:19:51.236752",
   "environment_variables": {},
   "exception": null,
   "input_path": "__notebook__.ipynb",
   "output_path": "__notebook__.ipynb",
   "parameters": {},
   "start_time": "2020-12-12T11:18:51.990784",
   "version": "2.1.0"
  }
 },
 "nbformat": 4,
 "nbformat_minor": 4
}
