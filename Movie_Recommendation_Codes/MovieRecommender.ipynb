{
 "cells": [
  {
   "cell_type": "code",
   "execution_count": 3,
   "metadata": {},
   "outputs": [],
   "source": [
    "import os\n",
    "import json\n",
    "import pickle\n",
    "import requests\n",
    "import numpy as np\n",
    "import pandas as pd\n",
    "from tmdbv3api import TMDb\n",
    "\n",
    "from tmdbv3api import Movie\n",
    "\n",
    "from sklearn.feature_extraction.text import CountVectorizer\n",
    "from sklearn.metrics.pairwise import cosine_similarity\n"
   ]
  },
  {
   "cell_type": "code",
   "execution_count": 4,
   "metadata": {},
   "outputs": [
    {
     "data": {
      "text/html": [
       "<div>\n",
       "<style scoped>\n",
       "    .dataframe tbody tr th:only-of-type {\n",
       "        vertical-align: middle;\n",
       "    }\n",
       "\n",
       "    .dataframe tbody tr th {\n",
       "        vertical-align: top;\n",
       "    }\n",
       "\n",
       "    .dataframe thead th {\n",
       "        text-align: right;\n",
       "    }\n",
       "</style>\n",
       "<table border=\"1\" class=\"dataframe\">\n",
       "  <thead>\n",
       "    <tr style=\"text-align: right;\">\n",
       "      <th></th>\n",
       "      <th>movie_title</th>\n",
       "      <th>genres</th>\n",
       "      <th>director_name</th>\n",
       "      <th>actor_1_name</th>\n",
       "      <th>actor_2_name</th>\n",
       "      <th>actor_3_name</th>\n",
       "      <th>movie_feature</th>\n",
       "    </tr>\n",
       "  </thead>\n",
       "  <tbody>\n",
       "    <tr>\n",
       "      <th>0</th>\n",
       "      <td>avatar</td>\n",
       "      <td>Action Adventure Fantasy Sci-Fi</td>\n",
       "      <td>James Cameron</td>\n",
       "      <td>CCH Pounder</td>\n",
       "      <td>Joel David Moore</td>\n",
       "      <td>Wes Studi</td>\n",
       "      <td>CCH Pounder Joel David Moore Wes Studi James C...</td>\n",
       "    </tr>\n",
       "    <tr>\n",
       "      <th>1</th>\n",
       "      <td>pirates of the caribbean: at world's end</td>\n",
       "      <td>Action Adventure Fantasy</td>\n",
       "      <td>Gore Verbinski</td>\n",
       "      <td>Johnny Depp</td>\n",
       "      <td>Orlando Bloom</td>\n",
       "      <td>Jack Davenport</td>\n",
       "      <td>Johnny Depp Orlando Bloom Jack Davenport Gore ...</td>\n",
       "    </tr>\n",
       "    <tr>\n",
       "      <th>2</th>\n",
       "      <td>spectre</td>\n",
       "      <td>Action Adventure Thriller</td>\n",
       "      <td>Sam Mendes</td>\n",
       "      <td>Christoph Waltz</td>\n",
       "      <td>Rory Kinnear</td>\n",
       "      <td>Stephanie Sigman</td>\n",
       "      <td>Christoph Waltz Rory Kinnear Stephanie Sigman ...</td>\n",
       "    </tr>\n",
       "    <tr>\n",
       "      <th>3</th>\n",
       "      <td>the dark knight rises</td>\n",
       "      <td>Action Thriller</td>\n",
       "      <td>Christopher Nolan</td>\n",
       "      <td>Tom Hardy</td>\n",
       "      <td>Christian Bale</td>\n",
       "      <td>Joseph Gordon-Levitt</td>\n",
       "      <td>Tom Hardy Christian Bale Joseph Gordon-Levitt ...</td>\n",
       "    </tr>\n",
       "    <tr>\n",
       "      <th>4</th>\n",
       "      <td>star wars: episode vii - the force awakens</td>\n",
       "      <td>Documentary</td>\n",
       "      <td>Doug Walker</td>\n",
       "      <td>Doug Walker</td>\n",
       "      <td>Rob Walker</td>\n",
       "      <td>unknown</td>\n",
       "      <td>Doug Walker Rob Walker unknown Doug Walker Doc...</td>\n",
       "    </tr>\n",
       "  </tbody>\n",
       "</table>\n",
       "</div>"
      ],
      "text/plain": [
       "                                  movie_title  \\\n",
       "0                                      avatar   \n",
       "1    pirates of the caribbean: at world's end   \n",
       "2                                     spectre   \n",
       "3                       the dark knight rises   \n",
       "4  star wars: episode vii - the force awakens   \n",
       "\n",
       "                            genres      director_name     actor_1_name  \\\n",
       "0  Action Adventure Fantasy Sci-Fi      James Cameron      CCH Pounder   \n",
       "1         Action Adventure Fantasy     Gore Verbinski      Johnny Depp   \n",
       "2        Action Adventure Thriller         Sam Mendes  Christoph Waltz   \n",
       "3                  Action Thriller  Christopher Nolan        Tom Hardy   \n",
       "4                      Documentary        Doug Walker      Doug Walker   \n",
       "\n",
       "       actor_2_name          actor_3_name  \\\n",
       "0  Joel David Moore             Wes Studi   \n",
       "1     Orlando Bloom        Jack Davenport   \n",
       "2      Rory Kinnear      Stephanie Sigman   \n",
       "3    Christian Bale  Joseph Gordon-Levitt   \n",
       "4        Rob Walker               unknown   \n",
       "\n",
       "                                       movie_feature  \n",
       "0  CCH Pounder Joel David Moore Wes Studi James C...  \n",
       "1  Johnny Depp Orlando Bloom Jack Davenport Gore ...  \n",
       "2  Christoph Waltz Rory Kinnear Stephanie Sigman ...  \n",
       "3  Tom Hardy Christian Bale Joseph Gordon-Levitt ...  \n",
       "4  Doug Walker Rob Walker unknown Doug Walker Doc...  "
      ]
     },
     "execution_count": 4,
     "metadata": {},
     "output_type": "execute_result"
    }
   ],
   "source": [
    "data = pd.read_csv(\"./final_data.csv\")\n",
    "data.head()"
   ]
  },
  {
   "cell_type": "code",
   "execution_count": 5,
   "metadata": {},
   "outputs": [],
   "source": [
    "count_vectorizer = CountVectorizer()\n",
    "count_matrix = count_vectorizer.fit_transform(data[\"movie_feature\"])\n",
    "similarity_matrix = cosine_similarity(count_matrix)"
   ]
  },
  {
   "cell_type": "code",
   "execution_count": 6,
   "metadata": {},
   "outputs": [],
   "source": [
    "def convert(o):\n",
    "    if isinstance(o, np.generic):\n",
    "        return o.item()\n",
    "    raise TypeError"
   ]
  },
  {
   "cell_type": "code",
   "execution_count": 7,
   "metadata": {},
   "outputs": [],
   "source": [
    "tmdb = TMDb()\n",
    "TMDB_API_KEY = \"eac61d7ffa1608d3e0188068092bd341\"\n",
    "tmdb.api_key = TMDB_API_KEY"
   ]
  },
  {
   "cell_type": "code",
   "execution_count": 8,
   "metadata": {},
   "outputs": [],
   "source": [
    "def movie_search_engine(movie_name, TMDB_API_KEY = TMDB_API_KEY):\n",
    "    MOVIE_SEARCH_LINK = \"https://api.themoviedb.org/3/movie/\"\n",
    "    BASE_IMAGE_URL = \"https://image.tmdb.org/t/p/original\"\n",
    "    tmdb_movie = Movie()\n",
    "    search_result = tmdb_movie.search(movie_name.strip())\n",
    "    movie_id = search_result[0][\"id\"]\n",
    "    response = requests.get(MOVIE_SEARCH_LINK+\"{}?api_key={}\".format(movie_id, tmdb.api_key))\n",
    "    json_response = response.json()\n",
    "    # print(json_response)\n",
    "    movie_data = {}\n",
    "    movie_data[\"title\"] = json_response[\"original_title\"] if json_response[\"original_title\"] and json_response[\"original_title\"].lower()==movie_name else json_response[\"title\"]\n",
    "    movie_data[\"poster\"] = BASE_IMAGE_URL + json_response[\"poster_path\"]\n",
    "    movie_data[\"overview\"] = json_response[\"overview\"]\n",
    "    genres = []\n",
    "    for genre in json_response[\"genres\"]:\n",
    "        genres.append(genre[\"name\"])\n",
    "    movie_data[\"genres\"] = \"*\".join(genres)\n",
    "    movie_data[\"rating\"] = json_response[\"vote_average\"]\n",
    "    movie_data[\"total_votes\"] = json_response[\"vote_count\"]\n",
    "    movie_data[\"tag_line\"] = json_response[\"tagline\"]\n",
    "    movie_data[\"status\"] = json_response[\"status\"]\n",
    "    return movie_data"
   ]
  },
  {
   "cell_type": "code",
   "execution_count": 9,
   "metadata": {},
   "outputs": [],
   "source": [
    "def movie_recommender_engine(movie_name, n_top_recommendations=10):\n",
    "    movie_name = movie_name.strip().lower()\n",
    "    if movie_name not in data[\"movie_title\"].unique():\n",
    "        return json.dumps({\"error\": \"Sorry! Movie is not in our database. Please check the spelling or try with another movie name\"}, default=convert)\n",
    "    else:\n",
    "        index = data.loc[data[\"movie_title\"] == movie_name].index[0]\n",
    "        matrix = list(enumerate(similarity_matrix[index]))\n",
    "        matrix = sorted(matrix, key=lambda x:x[1], reverse=True)\n",
    "        recommended_indexes = [index for (index, similarity) in matrix[1:n_top_recommendations+1]]\n",
    "        recommended_movies = {}\n",
    "        for i, index in enumerate(recommended_indexes):\n",
    "            r_movie_name = data[\"movie_title\"][index]\n",
    "            movie_data = movie_search_engine(r_movie_name)\n",
    "            recommended_movies[\"movie\"+str(i+1)] = movie_data\n",
    "        recommended_movies = json.dumps(recommended_movies, default = convert)\n",
    "        return recommended_movies"
   ]
  },
  {
   "cell_type": "code",
   "execution_count": 14,
   "metadata": {},
   "outputs": [
    {
     "data": {
      "text/plain": [
       "'{\"movie1\": {\"title\": \"The Messengers\", \"poster\": \"https://image.tmdb.org/t/p/original/kLmurNcnkmdPahLc6HKQjX3EHed.jpg\", \"overview\": \"When the Solomons trade in the craziness of big-city life for the quiet of a North Dakota farm, little do they expect the nightmare that follows. Soon after arriving, teenage Jess (Kristen Stewart) and her younger brother see terrifying apparitions and endure attacks from a supernatural source. Jess must warn her disbelieving family before it is too late to save them.\", \"genres\": \"Mystery*Thriller*Horror\", \"rating\": 5.7, \"total_votes\": 616, \"tag_line\": \"There is evidence to suggest that children are highly susceptible to paranormal phenomena. They see what adults cannot. They believe what adults deny. And they are trying to warn us.\", \"status\": \"Released\"}, \"movie2\": {\"title\": \"Saw\", \"poster\": \"https://image.tmdb.org/t/p/original/pparEGTCxcTiImyVFoKD0LX11N8.jpg\", \"overview\": \"Obsessed with teaching his victims the value of life, a deranged, sadistic serial killer abducts the morally wayward. Once captured, they must face impossible choices in a horrific game of survival. The victims must fight to win their lives back, or die trying...\", \"genres\": \"Horror*Mystery*Crime\", \"rating\": 7.4, \"total_votes\": 7040, \"tag_line\": \"Live or die. Make your choice.\", \"status\": \"Released\"}, \"movie3\": {\"title\": \"Megiddo: The Omega Code 2\", \"poster\": \"https://image.tmdb.org/t/p/original/gBFh6xxEManI9YJ5acKBfhqT9Nu.jpg\", \"overview\": \"Stone (the Antichrist) becomes President of the European Union and uses his seat of power to dissolve the United Nations and create a one world government called the World Union.  Megiddo is a supernatural ride into a world teetering on the edge of the Apocalypse. It follows the rise of a Machiavellian leader bent on amassing the armies of the world for the battle of Armageddon while calamities of Biblical proportions pummel the Earth. Though both prequel and sequel to The Omega Code, Megiddo works also as a stand alone story for anyone who missed its predecessor. For at its emotional core, Megiddo is the Caine and Abel story of the two men enamored with the same woman, raised as brothers, who grew up to find themselves pitted against each other over the fate and souls of the entire world.\", \"genres\": \"Action*Thriller\", \"rating\": 4.4, \"total_votes\": 24, \"tag_line\": \"In The Beginning, The End Had A Name.\", \"status\": \"Released\"}, \"movie4\": {\"title\": \"Detour\", \"poster\": \"https://image.tmdb.org/t/p/original/f7KpfESUH0Vy74XP9zYcbp1zCGo.jpg\", \"overview\": \"A young law student, grieving for his dying mother, struggles to decide whether he should kill his unfaithful step-father.\", \"genres\": \"Thriller\", \"rating\": 6.4, \"total_votes\": 134, \"tag_line\": \"When you want someone dead, which road would you choose?\", \"status\": \"Released\"}, \"movie5\": {\"title\": \"Now You See Me\", \"poster\": \"https://image.tmdb.org/t/p/original/tWsNYbrqy1p1w6K9zRk0mSchztT.jpg\", \"overview\": \"An FBI agent and an Interpol detective track a team of illusionists who pull off bank heists during their performances and reward their audiences with the money.\", \"genres\": \"Thriller*Crime\", \"rating\": 7.4, \"total_votes\": 13207, \"tag_line\": \"4 amazing magicians. 3 impossible heists. 1 billion dollars. This is no illusion.\", \"status\": \"Released\"}, \"movie6\": {\"title\": \"Memento\", \"poster\": \"https://image.tmdb.org/t/p/original/yuNs09hvpHVU1cBTCAk9zxsL2oW.jpg\", \"overview\": \"Leonard Shelby is tracking down the man who raped and murdered his wife. The difficulty of locating his wife\\'s killer, however, is compounded by the fact that he suffers from a rare, untreatable form of short-term memory loss. Although he can recall details of life before his accident, Leonard cannot remember what happened fifteen minutes ago, where he\\'s going, or why.\", \"genres\": \"Mystery*Thriller\", \"rating\": 8.2, \"total_votes\": 11658, \"tag_line\": \"Some memories are best forgotten.\", \"status\": \"Released\"}, \"movie7\": {\"title\": \"Enter Nowhere\", \"poster\": \"https://image.tmdb.org/t/p/original/eBWZmjzehYXmVTCsFan9RnzmZ7Z.jpg\", \"overview\": \"Three strangers arrive one by one to a mysterious cabin in the middle of nowhere after enduring separate life-altering predicaments. Searching for a way out of the woods, frustrated, hungry and battling to stay warm they discover their mysterious connection and realize what they have to do in order to get out of the woods alive.\", \"genres\": \"Mystery*Science Fiction*Thriller\", \"rating\": 6.4, \"total_votes\": 136, \"tag_line\": \"Welcome to our nightmare!\", \"status\": \"Released\"}, \"movie8\": {\"title\": \"The Interpreter\", \"poster\": \"https://image.tmdb.org/t/p/original/wTidq3J9fh8sEOAlD8WZFHVLSuB.jpg\", \"overview\": \"After Silvia Broome, an interpreter at United Nations headquarters, overhears plans of an assassination, an American Secret Service agent is sent to investigate.\", \"genres\": \"Crime*Thriller\", \"rating\": 6.3, \"total_votes\": 1078, \"tag_line\": \"The truth needs no translation.\", \"status\": \"Released\"}, \"movie9\": {\"title\": \"Ghost Rider: Spirit of Vengeance\", \"poster\": \"https://image.tmdb.org/t/p/original/fDtIZXLNreDHk3mOskJYABrQNOQ.jpg\", \"overview\": \"When the devil resurfaces with aims to take over the world in human form, Johnny Blaze reluctantly comes out of hiding to transform into the flame-spewing supernatural hero Ghost Rider -- and rescue a 10-year-old boy from an unsavory end.\", \"genres\": \"Action*Fantasy*Thriller\", \"rating\": 5.0, \"total_votes\": 2949, \"tag_line\": \"He Rides Again.\", \"status\": \"Released\"}, \"movie10\": {\"title\": \"Flightplan\", \"poster\": \"https://image.tmdb.org/t/p/original/hlZ8tWZzMYWOwFmExSBohZHXcrf.jpg\", \"overview\": \"Flying at 40,000 feet in a state-of-the art aircraft that she helped design, Kyle Pratt\\'s 6-year-old daughter Julia vanishes without a trace. Or did she? No one on the plane believes Julia was ever onboard. And now Kyle, desperate and alone, can only count on her own wits to unravel the mystery and save her daughter.\", \"genres\": \"Thriller*Drama*Mystery\", \"rating\": 6.4, \"total_votes\": 1976, \"tag_line\": \"If someone took everything you live for... how far would you go to get it back?\", \"status\": \"Released\"}}'"
      ]
     },
     "execution_count": 14,
     "metadata": {},
     "output_type": "execute_result"
    }
   ],
   "source": [
    "movie_recommender_engine(\"Triangle\", 10)"
   ]
  },
  {
   "cell_type": "code",
   "execution_count": null,
   "metadata": {},
   "outputs": [],
   "source": []
  }
 ],
 "metadata": {
  "interpreter": {
   "hash": "31f2aee4e71d21fbe5cf8b01ff0e069b9275f58929596ceb00d14d90e3e16cd6"
  },
  "kernelspec": {
   "display_name": "Python 3.7.4 64-bit ('base': conda)",
   "language": "python",
   "name": "python3"
  },
  "language_info": {
   "codemirror_mode": {
    "name": "ipython",
    "version": 3
   },
   "file_extension": ".py",
   "mimetype": "text/x-python",
   "name": "python",
   "nbconvert_exporter": "python",
   "pygments_lexer": "ipython3",
   "version": "3.8.9"
  },
  "orig_nbformat": 2
 },
 "nbformat": 4,
 "nbformat_minor": 2
}
